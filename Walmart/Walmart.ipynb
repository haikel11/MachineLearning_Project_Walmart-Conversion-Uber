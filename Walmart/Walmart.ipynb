{
 "cells": [
  {
   "attachments": {},
   "cell_type": "markdown",
   "id": "8b308715",
   "metadata": {},
   "source": [
    "*Project Walmart*"
   ]
  },
  {
   "cell_type": "code",
   "execution_count": 192,
   "id": "d1af7904-69be-4669-86a4-eced728c278a",
   "metadata": {},
   "outputs": [],
   "source": [
    "import pandas as pd\n",
    "import numpy as np\n",
    "\n",
    "import datetime as dt\n",
    "\n",
    "from sklearn.model_selection import train_test_split\n",
    "from sklearn.pipeline import Pipeline\n",
    "from sklearn.impute import SimpleImputer\n",
    "from sklearn.preprocessing import  OneHotEncoder, StandardScaler\n",
    "from sklearn.compose import ColumnTransformer\n",
    "from sklearn.linear_model import Ridge\n",
    "from sklearn.model_selection import cross_val_score, GridSearchCV\n",
    "from sklearn.linear_model import LinearRegression, Ridge, Lasso\n",
    "from sklearn.model_selection import cross_val_score, GridSearchCV\n",
    "from sklearn.metrics import r2_score, mean_squared_error\n",
    "from sklearn.metrics import r2_score\n",
    "\n",
    "import plotly.express as px\n",
    "import plotly.graph_objects as go\n",
    "import plotly.io as pio\n",
    "pio.templates.default = \"plotly_dark\"\n",
    "import matplotlib.pyplot as plt\n",
    "import seaborn as sns"
   ]
  },
  {
   "cell_type": "code",
   "execution_count": 193,
   "id": "25aad3f0-5d82-47b0-a6dc-999a7e6e4180",
   "metadata": {},
   "outputs": [
    {
     "name": "stdout",
     "output_type": "stream",
     "text": [
      "Requirement already satisfied: kaleido in e:\\anaconda\\lib\\site-packages (0.2.1)\n"
     ]
    }
   ],
   "source": [
    "!pip install -U kaleido"
   ]
  },
  {
   "cell_type": "code",
   "execution_count": 194,
   "id": "552acf8a-de8b-4790-9dee-ef05e481f647",
   "metadata": {},
   "outputs": [],
   "source": [
    "dataset = pd.read_csv(\"Walmart_Store_sales.csv\")"
   ]
  },
  {
   "cell_type": "code",
   "execution_count": 195,
   "id": "e3018b06-72a6-40b2-879c-e7e294d6e07f",
   "metadata": {},
   "outputs": [],
   "source": [
    "# that predicts the amount of weekly sales as a function of the other variables"
   ]
  },
  {
   "attachments": {},
   "cell_type": "markdown",
   "id": "37c5a2bd",
   "metadata": {},
   "source": [
    "### *Part 1 : Presentation of the dataset* ###"
   ]
  },
  {
   "cell_type": "code",
   "execution_count": 196,
   "id": "cc0bc602-ea6c-40c7-a3b0-82e3d3576791",
   "metadata": {},
   "outputs": [
    {
     "data": {
      "text/html": [
       "<div>\n",
       "<style scoped>\n",
       "    .dataframe tbody tr th:only-of-type {\n",
       "        vertical-align: middle;\n",
       "    }\n",
       "\n",
       "    .dataframe tbody tr th {\n",
       "        vertical-align: top;\n",
       "    }\n",
       "\n",
       "    .dataframe thead th {\n",
       "        text-align: right;\n",
       "    }\n",
       "</style>\n",
       "<table border=\"1\" class=\"dataframe\">\n",
       "  <thead>\n",
       "    <tr style=\"text-align: right;\">\n",
       "      <th></th>\n",
       "      <th>Store</th>\n",
       "      <th>Date</th>\n",
       "      <th>Weekly_Sales</th>\n",
       "      <th>Holiday_Flag</th>\n",
       "      <th>Temperature</th>\n",
       "      <th>Fuel_Price</th>\n",
       "      <th>CPI</th>\n",
       "      <th>Unemployment</th>\n",
       "    </tr>\n",
       "  </thead>\n",
       "  <tbody>\n",
       "    <tr>\n",
       "      <th>0</th>\n",
       "      <td>6.0</td>\n",
       "      <td>18-02-2011</td>\n",
       "      <td>1572117.54</td>\n",
       "      <td>NaN</td>\n",
       "      <td>59.61</td>\n",
       "      <td>3.045</td>\n",
       "      <td>214.777523</td>\n",
       "      <td>6.858</td>\n",
       "    </tr>\n",
       "    <tr>\n",
       "      <th>1</th>\n",
       "      <td>13.0</td>\n",
       "      <td>25-03-2011</td>\n",
       "      <td>1807545.43</td>\n",
       "      <td>0.0</td>\n",
       "      <td>42.38</td>\n",
       "      <td>3.435</td>\n",
       "      <td>128.616064</td>\n",
       "      <td>7.470</td>\n",
       "    </tr>\n",
       "    <tr>\n",
       "      <th>2</th>\n",
       "      <td>17.0</td>\n",
       "      <td>27-07-2012</td>\n",
       "      <td>NaN</td>\n",
       "      <td>0.0</td>\n",
       "      <td>NaN</td>\n",
       "      <td>NaN</td>\n",
       "      <td>130.719581</td>\n",
       "      <td>5.936</td>\n",
       "    </tr>\n",
       "    <tr>\n",
       "      <th>3</th>\n",
       "      <td>11.0</td>\n",
       "      <td>NaN</td>\n",
       "      <td>1244390.03</td>\n",
       "      <td>0.0</td>\n",
       "      <td>84.57</td>\n",
       "      <td>NaN</td>\n",
       "      <td>214.556497</td>\n",
       "      <td>7.346</td>\n",
       "    </tr>\n",
       "    <tr>\n",
       "      <th>4</th>\n",
       "      <td>6.0</td>\n",
       "      <td>28-05-2010</td>\n",
       "      <td>1644470.66</td>\n",
       "      <td>0.0</td>\n",
       "      <td>78.89</td>\n",
       "      <td>2.759</td>\n",
       "      <td>212.412888</td>\n",
       "      <td>7.092</td>\n",
       "    </tr>\n",
       "  </tbody>\n",
       "</table>\n",
       "</div>"
      ],
      "text/plain": [
       "   Store        Date  Weekly_Sales  Holiday_Flag  Temperature  Fuel_Price  \\\n",
       "0    6.0  18-02-2011    1572117.54           NaN        59.61       3.045   \n",
       "1   13.0  25-03-2011    1807545.43           0.0        42.38       3.435   \n",
       "2   17.0  27-07-2012           NaN           0.0          NaN         NaN   \n",
       "3   11.0         NaN    1244390.03           0.0        84.57         NaN   \n",
       "4    6.0  28-05-2010    1644470.66           0.0        78.89       2.759   \n",
       "\n",
       "          CPI  Unemployment  \n",
       "0  214.777523         6.858  \n",
       "1  128.616064         7.470  \n",
       "2  130.719581         5.936  \n",
       "3  214.556497         7.346  \n",
       "4  212.412888         7.092  "
      ]
     },
     "execution_count": 196,
     "metadata": {},
     "output_type": "execute_result"
    }
   ],
   "source": [
    "dataset.head()"
   ]
  },
  {
   "cell_type": "code",
   "execution_count": 197,
   "id": "ac8d8c08-b2b4-4f88-823f-1b8b9e8369e9",
   "metadata": {},
   "outputs": [
    {
     "name": "stdout",
     "output_type": "stream",
     "text": [
      "Number of rows : 150\n",
      "Number of columns : 8\n",
      "\n"
     ]
    }
   ],
   "source": [
    "# Basic stats\n",
    "print(\"Number of rows : {}\".format(dataset.shape[0]))\n",
    "print(\"Number of columns : {}\".format(dataset.shape[1]))\n",
    "print()"
   ]
  },
  {
   "cell_type": "code",
   "execution_count": 198,
   "id": "6fe26971-93f2-4999-82fa-3e16da195238",
   "metadata": {},
   "outputs": [
    {
     "name": "stdout",
     "output_type": "stream",
     "text": [
      "Basics statistics: \n"
     ]
    },
    {
     "data": {
      "text/html": [
       "<div>\n",
       "<style scoped>\n",
       "    .dataframe tbody tr th:only-of-type {\n",
       "        vertical-align: middle;\n",
       "    }\n",
       "\n",
       "    .dataframe tbody tr th {\n",
       "        vertical-align: top;\n",
       "    }\n",
       "\n",
       "    .dataframe thead th {\n",
       "        text-align: right;\n",
       "    }\n",
       "</style>\n",
       "<table border=\"1\" class=\"dataframe\">\n",
       "  <thead>\n",
       "    <tr style=\"text-align: right;\">\n",
       "      <th></th>\n",
       "      <th>Store</th>\n",
       "      <th>Date</th>\n",
       "      <th>Weekly_Sales</th>\n",
       "      <th>Holiday_Flag</th>\n",
       "      <th>Temperature</th>\n",
       "      <th>Fuel_Price</th>\n",
       "      <th>CPI</th>\n",
       "      <th>Unemployment</th>\n",
       "    </tr>\n",
       "  </thead>\n",
       "  <tbody>\n",
       "    <tr>\n",
       "      <th>count</th>\n",
       "      <td>150.000000</td>\n",
       "      <td>132</td>\n",
       "      <td>1.360000e+02</td>\n",
       "      <td>138.000000</td>\n",
       "      <td>132.000000</td>\n",
       "      <td>136.000000</td>\n",
       "      <td>138.000000</td>\n",
       "      <td>135.000000</td>\n",
       "    </tr>\n",
       "    <tr>\n",
       "      <th>unique</th>\n",
       "      <td>NaN</td>\n",
       "      <td>85</td>\n",
       "      <td>NaN</td>\n",
       "      <td>NaN</td>\n",
       "      <td>NaN</td>\n",
       "      <td>NaN</td>\n",
       "      <td>NaN</td>\n",
       "      <td>NaN</td>\n",
       "    </tr>\n",
       "    <tr>\n",
       "      <th>top</th>\n",
       "      <td>NaN</td>\n",
       "      <td>19-10-2012</td>\n",
       "      <td>NaN</td>\n",
       "      <td>NaN</td>\n",
       "      <td>NaN</td>\n",
       "      <td>NaN</td>\n",
       "      <td>NaN</td>\n",
       "      <td>NaN</td>\n",
       "    </tr>\n",
       "    <tr>\n",
       "      <th>freq</th>\n",
       "      <td>NaN</td>\n",
       "      <td>4</td>\n",
       "      <td>NaN</td>\n",
       "      <td>NaN</td>\n",
       "      <td>NaN</td>\n",
       "      <td>NaN</td>\n",
       "      <td>NaN</td>\n",
       "      <td>NaN</td>\n",
       "    </tr>\n",
       "    <tr>\n",
       "      <th>mean</th>\n",
       "      <td>9.866667</td>\n",
       "      <td>NaN</td>\n",
       "      <td>1.249536e+06</td>\n",
       "      <td>0.079710</td>\n",
       "      <td>61.398106</td>\n",
       "      <td>3.320853</td>\n",
       "      <td>179.898509</td>\n",
       "      <td>7.598430</td>\n",
       "    </tr>\n",
       "    <tr>\n",
       "      <th>std</th>\n",
       "      <td>6.231191</td>\n",
       "      <td>NaN</td>\n",
       "      <td>6.474630e+05</td>\n",
       "      <td>0.271831</td>\n",
       "      <td>18.378901</td>\n",
       "      <td>0.478149</td>\n",
       "      <td>40.274956</td>\n",
       "      <td>1.577173</td>\n",
       "    </tr>\n",
       "    <tr>\n",
       "      <th>min</th>\n",
       "      <td>1.000000</td>\n",
       "      <td>NaN</td>\n",
       "      <td>2.689290e+05</td>\n",
       "      <td>0.000000</td>\n",
       "      <td>18.790000</td>\n",
       "      <td>2.514000</td>\n",
       "      <td>126.111903</td>\n",
       "      <td>5.143000</td>\n",
       "    </tr>\n",
       "    <tr>\n",
       "      <th>25%</th>\n",
       "      <td>4.000000</td>\n",
       "      <td>NaN</td>\n",
       "      <td>6.050757e+05</td>\n",
       "      <td>0.000000</td>\n",
       "      <td>45.587500</td>\n",
       "      <td>2.852250</td>\n",
       "      <td>131.970831</td>\n",
       "      <td>6.597500</td>\n",
       "    </tr>\n",
       "    <tr>\n",
       "      <th>50%</th>\n",
       "      <td>9.000000</td>\n",
       "      <td>NaN</td>\n",
       "      <td>1.261424e+06</td>\n",
       "      <td>0.000000</td>\n",
       "      <td>62.985000</td>\n",
       "      <td>3.451000</td>\n",
       "      <td>197.908893</td>\n",
       "      <td>7.470000</td>\n",
       "    </tr>\n",
       "    <tr>\n",
       "      <th>75%</th>\n",
       "      <td>15.750000</td>\n",
       "      <td>NaN</td>\n",
       "      <td>1.806386e+06</td>\n",
       "      <td>0.000000</td>\n",
       "      <td>76.345000</td>\n",
       "      <td>3.706250</td>\n",
       "      <td>214.934616</td>\n",
       "      <td>8.150000</td>\n",
       "    </tr>\n",
       "    <tr>\n",
       "      <th>max</th>\n",
       "      <td>20.000000</td>\n",
       "      <td>NaN</td>\n",
       "      <td>2.771397e+06</td>\n",
       "      <td>1.000000</td>\n",
       "      <td>91.650000</td>\n",
       "      <td>4.193000</td>\n",
       "      <td>226.968844</td>\n",
       "      <td>14.313000</td>\n",
       "    </tr>\n",
       "  </tbody>\n",
       "</table>\n",
       "</div>"
      ],
      "text/plain": [
       "             Store        Date  Weekly_Sales  Holiday_Flag  Temperature  \\\n",
       "count   150.000000         132  1.360000e+02    138.000000   132.000000   \n",
       "unique         NaN          85           NaN           NaN          NaN   \n",
       "top            NaN  19-10-2012           NaN           NaN          NaN   \n",
       "freq           NaN           4           NaN           NaN          NaN   \n",
       "mean      9.866667         NaN  1.249536e+06      0.079710    61.398106   \n",
       "std       6.231191         NaN  6.474630e+05      0.271831    18.378901   \n",
       "min       1.000000         NaN  2.689290e+05      0.000000    18.790000   \n",
       "25%       4.000000         NaN  6.050757e+05      0.000000    45.587500   \n",
       "50%       9.000000         NaN  1.261424e+06      0.000000    62.985000   \n",
       "75%      15.750000         NaN  1.806386e+06      0.000000    76.345000   \n",
       "max      20.000000         NaN  2.771397e+06      1.000000    91.650000   \n",
       "\n",
       "        Fuel_Price         CPI  Unemployment  \n",
       "count   136.000000  138.000000    135.000000  \n",
       "unique         NaN         NaN           NaN  \n",
       "top            NaN         NaN           NaN  \n",
       "freq           NaN         NaN           NaN  \n",
       "mean      3.320853  179.898509      7.598430  \n",
       "std       0.478149   40.274956      1.577173  \n",
       "min       2.514000  126.111903      5.143000  \n",
       "25%       2.852250  131.970831      6.597500  \n",
       "50%       3.451000  197.908893      7.470000  \n",
       "75%       3.706250  214.934616      8.150000  \n",
       "max       4.193000  226.968844     14.313000  "
      ]
     },
     "metadata": {},
     "output_type": "display_data"
    },
    {
     "name": "stdout",
     "output_type": "stream",
     "text": [
      "\n"
     ]
    }
   ],
   "source": [
    "# Basic stats\n",
    "print(\"Basics statistics: \")\n",
    "data_desc = dataset.describe(include='all')\n",
    "display(data_desc)\n",
    "print()"
   ]
  },
  {
   "cell_type": "code",
   "execution_count": 199,
   "id": "542a69f3-629e-44c2-aafc-1ca1c850a511",
   "metadata": {},
   "outputs": [
    {
     "data": {
      "text/plain": [
       "Store            0\n",
       "Date            18\n",
       "Weekly_Sales    14\n",
       "Holiday_Flag    12\n",
       "Temperature     18\n",
       "Fuel_Price      14\n",
       "CPI             12\n",
       "Unemployment    15\n",
       "dtype: int64"
      ]
     },
     "execution_count": 199,
     "metadata": {},
     "output_type": "execute_result"
    }
   ],
   "source": [
    "# Let's count NaN values in our dataframe\n",
    "dataset.isna().sum()"
   ]
  },
  {
   "cell_type": "code",
   "execution_count": 200,
   "id": "5b44b372-b052-4d25-aa1d-54c29e15767c",
   "metadata": {},
   "outputs": [
    {
     "name": "stdout",
     "output_type": "stream",
     "text": [
      "Percentage of missing values: \n"
     ]
    },
    {
     "data": {
      "text/plain": [
       "Store            0.000000\n",
       "Date            12.000000\n",
       "Weekly_Sales     9.333333\n",
       "Holiday_Flag     8.000000\n",
       "Temperature     12.000000\n",
       "Fuel_Price       9.333333\n",
       "CPI              8.000000\n",
       "Unemployment    10.000000\n",
       "dtype: float64"
      ]
     },
     "metadata": {},
     "output_type": "display_data"
    }
   ],
   "source": [
    "# Let's check the percentage of missing values\n",
    "print(\"Percentage of missing values: \")\n",
    "display(100*dataset.isnull().sum()/dataset.shape[0])"
   ]
  },
  {
   "cell_type": "code",
   "execution_count": 201,
   "id": "c0c147c7-2a19-4ece-b74a-3d755d5cc7a9",
   "metadata": {},
   "outputs": [
    {
     "name": "stdout",
     "output_type": "stream",
     "text": [
      "     Store        Date  Weekly_Sales  Holiday_Flag  Temperature  Fuel_Price  \\\n",
      "0      6.0  18-02-2011    1572117.54           NaN        59.61       3.045   \n",
      "1     13.0  25-03-2011    1807545.43           0.0        42.38       3.435   \n",
      "3     11.0         NaN    1244390.03           0.0        84.57         NaN   \n",
      "4      6.0  28-05-2010    1644470.66           0.0        78.89       2.759   \n",
      "5      4.0  28-05-2010    1857533.70           0.0          NaN       2.756   \n",
      "..     ...         ...           ...           ...          ...         ...   \n",
      "145   14.0  18-06-2010    2248645.59           0.0        72.62       2.780   \n",
      "146    7.0         NaN     716388.81           NaN        20.74       2.778   \n",
      "147   17.0  11-06-2010     845252.21           0.0        57.14       2.841   \n",
      "148    8.0  12-08-2011     856796.10           0.0        86.05       3.638   \n",
      "149   19.0  20-04-2012    1255087.26           0.0        55.20       4.170   \n",
      "\n",
      "            CPI  Unemployment  \n",
      "0    214.777523         6.858  \n",
      "1    128.616064         7.470  \n",
      "3    214.556497         7.346  \n",
      "4    212.412888         7.092  \n",
      "5    126.160226         7.896  \n",
      "..          ...           ...  \n",
      "145  182.442420         8.899  \n",
      "146         NaN           NaN  \n",
      "147  126.111903           NaN  \n",
      "148  219.007525           NaN  \n",
      "149  137.923067         8.150  \n",
      "\n",
      "[136 rows x 8 columns]\n"
     ]
    }
   ],
   "source": [
    "# We decide to drop lines where target values are missing :\n",
    "dataset = dataset.dropna(subset=['Weekly_Sales'])\n",
    "print(dataset)"
   ]
  },
  {
   "cell_type": "code",
   "execution_count": 202,
   "id": "4d250470-90e3-4668-a8a8-7d7bf210b096",
   "metadata": {},
   "outputs": [
    {
     "data": {
      "text/html": [
       "<div>\n",
       "<style scoped>\n",
       "    .dataframe tbody tr th:only-of-type {\n",
       "        vertical-align: middle;\n",
       "    }\n",
       "\n",
       "    .dataframe tbody tr th {\n",
       "        vertical-align: top;\n",
       "    }\n",
       "\n",
       "    .dataframe thead th {\n",
       "        text-align: right;\n",
       "    }\n",
       "</style>\n",
       "<table border=\"1\" class=\"dataframe\">\n",
       "  <thead>\n",
       "    <tr style=\"text-align: right;\">\n",
       "      <th></th>\n",
       "      <th>Store</th>\n",
       "      <th>Weekly_Sales</th>\n",
       "      <th>Holiday_Flag</th>\n",
       "      <th>Temperature</th>\n",
       "      <th>Fuel_Price</th>\n",
       "      <th>CPI</th>\n",
       "      <th>Unemployment</th>\n",
       "      <th>Day</th>\n",
       "      <th>Month</th>\n",
       "      <th>Year</th>\n",
       "      <th>Day_of_week</th>\n",
       "    </tr>\n",
       "  </thead>\n",
       "  <tbody>\n",
       "    <tr>\n",
       "      <th>0</th>\n",
       "      <td>6.0</td>\n",
       "      <td>1572117.54</td>\n",
       "      <td>NaN</td>\n",
       "      <td>59.61</td>\n",
       "      <td>3.045</td>\n",
       "      <td>214.777523</td>\n",
       "      <td>6.858</td>\n",
       "      <td>18.0</td>\n",
       "      <td>2.0</td>\n",
       "      <td>2011.0</td>\n",
       "      <td>4.0</td>\n",
       "    </tr>\n",
       "    <tr>\n",
       "      <th>1</th>\n",
       "      <td>13.0</td>\n",
       "      <td>1807545.43</td>\n",
       "      <td>0.0</td>\n",
       "      <td>42.38</td>\n",
       "      <td>3.435</td>\n",
       "      <td>128.616064</td>\n",
       "      <td>7.470</td>\n",
       "      <td>25.0</td>\n",
       "      <td>3.0</td>\n",
       "      <td>2011.0</td>\n",
       "      <td>4.0</td>\n",
       "    </tr>\n",
       "    <tr>\n",
       "      <th>3</th>\n",
       "      <td>11.0</td>\n",
       "      <td>1244390.03</td>\n",
       "      <td>0.0</td>\n",
       "      <td>84.57</td>\n",
       "      <td>NaN</td>\n",
       "      <td>214.556497</td>\n",
       "      <td>7.346</td>\n",
       "      <td>NaN</td>\n",
       "      <td>NaN</td>\n",
       "      <td>NaN</td>\n",
       "      <td>NaN</td>\n",
       "    </tr>\n",
       "    <tr>\n",
       "      <th>4</th>\n",
       "      <td>6.0</td>\n",
       "      <td>1644470.66</td>\n",
       "      <td>0.0</td>\n",
       "      <td>78.89</td>\n",
       "      <td>2.759</td>\n",
       "      <td>212.412888</td>\n",
       "      <td>7.092</td>\n",
       "      <td>28.0</td>\n",
       "      <td>5.0</td>\n",
       "      <td>2010.0</td>\n",
       "      <td>4.0</td>\n",
       "    </tr>\n",
       "    <tr>\n",
       "      <th>5</th>\n",
       "      <td>4.0</td>\n",
       "      <td>1857533.70</td>\n",
       "      <td>0.0</td>\n",
       "      <td>NaN</td>\n",
       "      <td>2.756</td>\n",
       "      <td>126.160226</td>\n",
       "      <td>7.896</td>\n",
       "      <td>28.0</td>\n",
       "      <td>5.0</td>\n",
       "      <td>2010.0</td>\n",
       "      <td>4.0</td>\n",
       "    </tr>\n",
       "  </tbody>\n",
       "</table>\n",
       "</div>"
      ],
      "text/plain": [
       "   Store  Weekly_Sales  Holiday_Flag  Temperature  Fuel_Price         CPI  \\\n",
       "0    6.0    1572117.54           NaN        59.61       3.045  214.777523   \n",
       "1   13.0    1807545.43           0.0        42.38       3.435  128.616064   \n",
       "3   11.0    1244390.03           0.0        84.57         NaN  214.556497   \n",
       "4    6.0    1644470.66           0.0        78.89       2.759  212.412888   \n",
       "5    4.0    1857533.70           0.0          NaN       2.756  126.160226   \n",
       "\n",
       "   Unemployment   Day  Month    Year  Day_of_week  \n",
       "0         6.858  18.0    2.0  2011.0          4.0  \n",
       "1         7.470  25.0    3.0  2011.0          4.0  \n",
       "3         7.346   NaN    NaN     NaN          NaN  \n",
       "4         7.092  28.0    5.0  2010.0          4.0  \n",
       "5         7.896  28.0    5.0  2010.0          4.0  "
      ]
     },
     "execution_count": 202,
     "metadata": {},
     "output_type": "execute_result"
    }
   ],
   "source": [
    "# Create usable features from the Date column : The Date column cannot be included as it is in the model.\n",
    "# Either you can drop this column, or you will create new columns that contain the following numeric features :\n",
    "# year, month, day, day of week\n",
    "\n",
    "dataset['Date'] = pd.to_datetime(dataset['Date'], format=\"%d-%m-%Y\")\n",
    "dataset['Day'] = dataset['Date'].dt.day\n",
    "dataset['Month'] = dataset['Date'].dt.month\n",
    "dataset['Year'] = dataset['Date'].dt.year\n",
    "dataset['Day_of_week'] = dataset['Date'].dt.dayofweek\n",
    "dataset = dataset.drop('Date', axis=1)\n",
    "dataset.head()\n",
    "# 4 = Friday"
   ]
  },
  {
   "cell_type": "code",
   "execution_count": 203,
   "id": "8085d073-de81-460b-ad6a-d430d5a2e300",
   "metadata": {},
   "outputs": [
    {
     "name": "stdout",
     "output_type": "stream",
     "text": [
      "Number of rows : 136\n",
      "Number of columns : 11\n",
      "\n",
      "Basics statistics: \n"
     ]
    },
    {
     "data": {
      "text/html": [
       "<div>\n",
       "<style scoped>\n",
       "    .dataframe tbody tr th:only-of-type {\n",
       "        vertical-align: middle;\n",
       "    }\n",
       "\n",
       "    .dataframe tbody tr th {\n",
       "        vertical-align: top;\n",
       "    }\n",
       "\n",
       "    .dataframe thead th {\n",
       "        text-align: right;\n",
       "    }\n",
       "</style>\n",
       "<table border=\"1\" class=\"dataframe\">\n",
       "  <thead>\n",
       "    <tr style=\"text-align: right;\">\n",
       "      <th></th>\n",
       "      <th>Store</th>\n",
       "      <th>Weekly_Sales</th>\n",
       "      <th>Holiday_Flag</th>\n",
       "      <th>Temperature</th>\n",
       "      <th>Fuel_Price</th>\n",
       "      <th>CPI</th>\n",
       "      <th>Unemployment</th>\n",
       "      <th>Day</th>\n",
       "      <th>Month</th>\n",
       "      <th>Year</th>\n",
       "      <th>Day_of_week</th>\n",
       "    </tr>\n",
       "  </thead>\n",
       "  <tbody>\n",
       "    <tr>\n",
       "      <th>count</th>\n",
       "      <td>136.000000</td>\n",
       "      <td>1.360000e+02</td>\n",
       "      <td>125.000000</td>\n",
       "      <td>121.000000</td>\n",
       "      <td>124.000000</td>\n",
       "      <td>125.000000</td>\n",
       "      <td>122.000000</td>\n",
       "      <td>118.000000</td>\n",
       "      <td>118.000000</td>\n",
       "      <td>118.000000</td>\n",
       "      <td>118.0</td>\n",
       "    </tr>\n",
       "    <tr>\n",
       "      <th>mean</th>\n",
       "      <td>10.014706</td>\n",
       "      <td>1.249536e+06</td>\n",
       "      <td>0.072000</td>\n",
       "      <td>60.853967</td>\n",
       "      <td>3.316992</td>\n",
       "      <td>178.091144</td>\n",
       "      <td>7.665582</td>\n",
       "      <td>16.440678</td>\n",
       "      <td>6.338983</td>\n",
       "      <td>2010.822034</td>\n",
       "      <td>4.0</td>\n",
       "    </tr>\n",
       "    <tr>\n",
       "      <th>std</th>\n",
       "      <td>6.124614</td>\n",
       "      <td>6.474630e+05</td>\n",
       "      <td>0.259528</td>\n",
       "      <td>18.514432</td>\n",
       "      <td>0.479540</td>\n",
       "      <td>40.243105</td>\n",
       "      <td>1.619428</td>\n",
       "      <td>8.209378</td>\n",
       "      <td>3.173664</td>\n",
       "      <td>0.812628</td>\n",
       "      <td>0.0</td>\n",
       "    </tr>\n",
       "    <tr>\n",
       "      <th>min</th>\n",
       "      <td>1.000000</td>\n",
       "      <td>2.689290e+05</td>\n",
       "      <td>0.000000</td>\n",
       "      <td>18.790000</td>\n",
       "      <td>2.514000</td>\n",
       "      <td>126.111903</td>\n",
       "      <td>5.143000</td>\n",
       "      <td>1.000000</td>\n",
       "      <td>1.000000</td>\n",
       "      <td>2010.000000</td>\n",
       "      <td>4.0</td>\n",
       "    </tr>\n",
       "    <tr>\n",
       "      <th>25%</th>\n",
       "      <td>4.000000</td>\n",
       "      <td>6.050757e+05</td>\n",
       "      <td>0.000000</td>\n",
       "      <td>45.220000</td>\n",
       "      <td>2.838500</td>\n",
       "      <td>131.637000</td>\n",
       "      <td>6.690000</td>\n",
       "      <td>10.000000</td>\n",
       "      <td>4.000000</td>\n",
       "      <td>2010.000000</td>\n",
       "      <td>4.0</td>\n",
       "    </tr>\n",
       "    <tr>\n",
       "      <th>50%</th>\n",
       "      <td>10.000000</td>\n",
       "      <td>1.261424e+06</td>\n",
       "      <td>0.000000</td>\n",
       "      <td>62.250000</td>\n",
       "      <td>3.451000</td>\n",
       "      <td>196.919506</td>\n",
       "      <td>7.477000</td>\n",
       "      <td>16.500000</td>\n",
       "      <td>6.000000</td>\n",
       "      <td>2011.000000</td>\n",
       "      <td>4.0</td>\n",
       "    </tr>\n",
       "    <tr>\n",
       "      <th>75%</th>\n",
       "      <td>15.250000</td>\n",
       "      <td>1.806386e+06</td>\n",
       "      <td>0.000000</td>\n",
       "      <td>75.950000</td>\n",
       "      <td>3.724000</td>\n",
       "      <td>214.878556</td>\n",
       "      <td>8.150000</td>\n",
       "      <td>24.000000</td>\n",
       "      <td>9.000000</td>\n",
       "      <td>2011.750000</td>\n",
       "      <td>4.0</td>\n",
       "    </tr>\n",
       "    <tr>\n",
       "      <th>max</th>\n",
       "      <td>20.000000</td>\n",
       "      <td>2.771397e+06</td>\n",
       "      <td>1.000000</td>\n",
       "      <td>91.650000</td>\n",
       "      <td>4.193000</td>\n",
       "      <td>226.968844</td>\n",
       "      <td>14.313000</td>\n",
       "      <td>31.000000</td>\n",
       "      <td>12.000000</td>\n",
       "      <td>2012.000000</td>\n",
       "      <td>4.0</td>\n",
       "    </tr>\n",
       "  </tbody>\n",
       "</table>\n",
       "</div>"
      ],
      "text/plain": [
       "            Store  Weekly_Sales  Holiday_Flag  Temperature  Fuel_Price  \\\n",
       "count  136.000000  1.360000e+02    125.000000   121.000000  124.000000   \n",
       "mean    10.014706  1.249536e+06      0.072000    60.853967    3.316992   \n",
       "std      6.124614  6.474630e+05      0.259528    18.514432    0.479540   \n",
       "min      1.000000  2.689290e+05      0.000000    18.790000    2.514000   \n",
       "25%      4.000000  6.050757e+05      0.000000    45.220000    2.838500   \n",
       "50%     10.000000  1.261424e+06      0.000000    62.250000    3.451000   \n",
       "75%     15.250000  1.806386e+06      0.000000    75.950000    3.724000   \n",
       "max     20.000000  2.771397e+06      1.000000    91.650000    4.193000   \n",
       "\n",
       "              CPI  Unemployment         Day       Month         Year  \\\n",
       "count  125.000000    122.000000  118.000000  118.000000   118.000000   \n",
       "mean   178.091144      7.665582   16.440678    6.338983  2010.822034   \n",
       "std     40.243105      1.619428    8.209378    3.173664     0.812628   \n",
       "min    126.111903      5.143000    1.000000    1.000000  2010.000000   \n",
       "25%    131.637000      6.690000   10.000000    4.000000  2010.000000   \n",
       "50%    196.919506      7.477000   16.500000    6.000000  2011.000000   \n",
       "75%    214.878556      8.150000   24.000000    9.000000  2011.750000   \n",
       "max    226.968844     14.313000   31.000000   12.000000  2012.000000   \n",
       "\n",
       "       Day_of_week  \n",
       "count        118.0  \n",
       "mean           4.0  \n",
       "std            0.0  \n",
       "min            4.0  \n",
       "25%            4.0  \n",
       "50%            4.0  \n",
       "75%            4.0  \n",
       "max            4.0  "
      ]
     },
     "metadata": {},
     "output_type": "display_data"
    },
    {
     "name": "stdout",
     "output_type": "stream",
     "text": [
      "\n",
      "Percentage of missing values: \n"
     ]
    },
    {
     "data": {
      "text/plain": [
       "Store            0.000000\n",
       "Weekly_Sales     0.000000\n",
       "Holiday_Flag     8.088235\n",
       "Temperature     11.029412\n",
       "Fuel_Price       8.823529\n",
       "CPI              8.088235\n",
       "Unemployment    10.294118\n",
       "Day             13.235294\n",
       "Month           13.235294\n",
       "Year            13.235294\n",
       "Day_of_week     13.235294\n",
       "dtype: float64"
      ]
     },
     "metadata": {},
     "output_type": "display_data"
    }
   ],
   "source": [
    "print(\"Number of rows : {}\".format(dataset.shape[0]))\n",
    "print(\"Number of columns : {}\".format(dataset.shape[1]))\n",
    "print()\n",
    "\n",
    "print(\"Basics statistics: \")\n",
    "data_desc = dataset.describe(include='all')\n",
    "display(data_desc)\n",
    "print()\n",
    "\n",
    "print(\"Percentage of missing values: \")\n",
    "display(100*dataset.isnull().sum()/dataset.shape[0])"
   ]
  },
  {
   "attachments": {},
   "cell_type": "markdown",
   "id": "fb908701",
   "metadata": {},
   "source": [
    "### *Part 2 : EDA* ###"
   ]
  },
  {
   "cell_type": "code",
   "execution_count": 237,
   "id": "4427fc03",
   "metadata": {},
   "outputs": [
    {
     "data": {
      "application/vnd.plotly.v1+json": {
       "config": {
        "plotlyServerURL": "https://plot.ly"
       },
       "data": [
        {
         "alignmentgroup": "True",
         "hovertemplate": "Year=%{x}<br>Weekly_Sales=%{y}<br>Month=%{marker.color}<extra></extra>",
         "legendgroup": "",
         "marker": {
          "color": [
           2,
           3,
           5,
           6,
           2,
           null,
           8,
           10,
           5,
           3,
           10,
           4,
           null,
           4,
           5,
           10,
           3,
           5,
           10,
           5,
           4,
           2,
           3,
           9,
           6,
           11,
           4,
           8,
           2,
           2,
           7,
           7,
           8,
           3,
           6,
           11,
           3,
           7,
           9,
           8,
           2,
           3,
           10,
           12,
           null,
           8,
           2,
           12,
           8,
           6,
           3,
           11,
           11,
           null,
           null,
           1,
           5,
           null,
           null,
           7,
           7,
           5,
           7,
           6,
           null,
           12,
           6,
           7,
           2,
           12,
           11,
           4,
           6,
           9,
           7,
           9,
           11,
           7,
           8,
           null,
           3,
           7,
           7,
           null,
           4,
           5,
           6,
           10,
           6,
           4
          ],
          "coloraxis": "coloraxis",
          "pattern": {
           "shape": ""
          }
         },
         "name": "",
         "offsetgroup": "",
         "orientation": "v",
         "showlegend": false,
         "textposition": "auto",
         "type": "bar",
         "x": [
          2011,
          2011,
          2010,
          2011,
          2012,
          null,
          2011,
          2010,
          2011,
          2012,
          2010,
          2010,
          null,
          2010,
          2011,
          2012,
          2010,
          2012,
          2012,
          2011,
          2010,
          2012,
          2011,
          2011,
          2011,
          2011,
          2012,
          2011,
          2010,
          2012,
          2010,
          2010,
          2011,
          2012,
          2012,
          2010,
          2011,
          2012,
          2011,
          2010,
          2012,
          2012,
          2012,
          2011,
          null,
          2010,
          2010,
          2010,
          2010,
          2010,
          2012,
          2011,
          2010,
          null,
          null,
          2011,
          2012,
          null,
          null,
          2010,
          2011,
          2010,
          2010,
          2010,
          null,
          2010,
          2012,
          2010,
          2010,
          2010,
          2010,
          2012,
          2010,
          2010,
          2011,
          2012,
          2011,
          2010,
          2011,
          null,
          2012,
          2011,
          2011,
          null,
          2011,
          2012,
          2010,
          2012,
          2010,
          2012
         ],
         "xaxis": "x",
         "y": [
          1572117.54,
          1807545.43,
          1644470.66,
          695396.19,
          2203523.2,
          418925.47,
          895066.5,
          1029618.1,
          414094.05,
          1677472.78,
          829207.27,
          1498080.16,
          1205307.5,
          561145.14,
          290930.01,
          1074079,
          1427023.45,
          1405007.44,
          919878.34,
          435397.19,
          757738.76,
          563460.77,
          1266564.94,
          365248.94,
          2008344.92,
          311906.7,
          961186.23,
          629994.47,
          1641957.44,
          1861802.7,
          268929.03,
          1549018.68,
          1624383.75,
          485095.41,
          2035431.39,
          1916812.74,
          1879451.23,
          1805999.79,
          1847430.96,
          888816.78,
          2020550.99,
          1990371.02,
          313358.15,
          2771397.17,
          1714309.9,
          1166117.85,
          461622.22,
          2461468.35,
          1449142.92,
          1973135.87,
          570611.23,
          1539483.7,
          519823.3,
          1569607.94,
          607475.44,
          1758050.79,
          431985.36,
          2045837.55,
          1797732.56,
          485389.15,
          1953544.76,
          1494251.5,
          2018314.71,
          364076.85,
          1087051.26,
          2302504.86,
          419497.95,
          1366395.96,
          994801.4,
          1799737.79,
          1757242.51,
          457340.06,
          513073.87,
          836707.85,
          275142.17,
          597876.55,
          398838.97,
          614253.33,
          1970341.38,
          1048134.24,
          2025582.62,
          2036231.39,
          2066541.86,
          1831676.03,
          1639358.93,
          532739.77,
          396968.8,
          424513.08,
          2248645.59,
          1255087.26
         ],
         "yaxis": "y"
        }
       ],
       "layout": {
        "barmode": "relative",
        "coloraxis": {
         "colorbar": {
          "title": {
           "text": "Month"
          }
         },
         "colorscale": [
          [
           0,
           "#0d0887"
          ],
          [
           0.1111111111111111,
           "#46039f"
          ],
          [
           0.2222222222222222,
           "#7201a8"
          ],
          [
           0.3333333333333333,
           "#9c179e"
          ],
          [
           0.4444444444444444,
           "#bd3786"
          ],
          [
           0.5555555555555556,
           "#d8576b"
          ],
          [
           0.6666666666666666,
           "#ed7953"
          ],
          [
           0.7777777777777778,
           "#fb9f3a"
          ],
          [
           0.8888888888888888,
           "#fdca26"
          ],
          [
           1,
           "#f0f921"
          ]
         ]
        },
        "height": 500,
        "legend": {
         "tracegroupgap": 0
        },
        "template": {
         "data": {
          "bar": [
           {
            "error_x": {
             "color": "#f2f5fa"
            },
            "error_y": {
             "color": "#f2f5fa"
            },
            "marker": {
             "line": {
              "color": "rgb(17,17,17)",
              "width": 0.5
             },
             "pattern": {
              "fillmode": "overlay",
              "size": 10,
              "solidity": 0.2
             }
            },
            "type": "bar"
           }
          ],
          "barpolar": [
           {
            "marker": {
             "line": {
              "color": "rgb(17,17,17)",
              "width": 0.5
             },
             "pattern": {
              "fillmode": "overlay",
              "size": 10,
              "solidity": 0.2
             }
            },
            "type": "barpolar"
           }
          ],
          "carpet": [
           {
            "aaxis": {
             "endlinecolor": "#A2B1C6",
             "gridcolor": "#506784",
             "linecolor": "#506784",
             "minorgridcolor": "#506784",
             "startlinecolor": "#A2B1C6"
            },
            "baxis": {
             "endlinecolor": "#A2B1C6",
             "gridcolor": "#506784",
             "linecolor": "#506784",
             "minorgridcolor": "#506784",
             "startlinecolor": "#A2B1C6"
            },
            "type": "carpet"
           }
          ],
          "choropleth": [
           {
            "colorbar": {
             "outlinewidth": 0,
             "ticks": ""
            },
            "type": "choropleth"
           }
          ],
          "contour": [
           {
            "colorbar": {
             "outlinewidth": 0,
             "ticks": ""
            },
            "colorscale": [
             [
              0,
              "#0d0887"
             ],
             [
              0.1111111111111111,
              "#46039f"
             ],
             [
              0.2222222222222222,
              "#7201a8"
             ],
             [
              0.3333333333333333,
              "#9c179e"
             ],
             [
              0.4444444444444444,
              "#bd3786"
             ],
             [
              0.5555555555555556,
              "#d8576b"
             ],
             [
              0.6666666666666666,
              "#ed7953"
             ],
             [
              0.7777777777777778,
              "#fb9f3a"
             ],
             [
              0.8888888888888888,
              "#fdca26"
             ],
             [
              1,
              "#f0f921"
             ]
            ],
            "type": "contour"
           }
          ],
          "contourcarpet": [
           {
            "colorbar": {
             "outlinewidth": 0,
             "ticks": ""
            },
            "type": "contourcarpet"
           }
          ],
          "heatmap": [
           {
            "colorbar": {
             "outlinewidth": 0,
             "ticks": ""
            },
            "colorscale": [
             [
              0,
              "#0d0887"
             ],
             [
              0.1111111111111111,
              "#46039f"
             ],
             [
              0.2222222222222222,
              "#7201a8"
             ],
             [
              0.3333333333333333,
              "#9c179e"
             ],
             [
              0.4444444444444444,
              "#bd3786"
             ],
             [
              0.5555555555555556,
              "#d8576b"
             ],
             [
              0.6666666666666666,
              "#ed7953"
             ],
             [
              0.7777777777777778,
              "#fb9f3a"
             ],
             [
              0.8888888888888888,
              "#fdca26"
             ],
             [
              1,
              "#f0f921"
             ]
            ],
            "type": "heatmap"
           }
          ],
          "heatmapgl": [
           {
            "colorbar": {
             "outlinewidth": 0,
             "ticks": ""
            },
            "colorscale": [
             [
              0,
              "#0d0887"
             ],
             [
              0.1111111111111111,
              "#46039f"
             ],
             [
              0.2222222222222222,
              "#7201a8"
             ],
             [
              0.3333333333333333,
              "#9c179e"
             ],
             [
              0.4444444444444444,
              "#bd3786"
             ],
             [
              0.5555555555555556,
              "#d8576b"
             ],
             [
              0.6666666666666666,
              "#ed7953"
             ],
             [
              0.7777777777777778,
              "#fb9f3a"
             ],
             [
              0.8888888888888888,
              "#fdca26"
             ],
             [
              1,
              "#f0f921"
             ]
            ],
            "type": "heatmapgl"
           }
          ],
          "histogram": [
           {
            "marker": {
             "pattern": {
              "fillmode": "overlay",
              "size": 10,
              "solidity": 0.2
             }
            },
            "type": "histogram"
           }
          ],
          "histogram2d": [
           {
            "colorbar": {
             "outlinewidth": 0,
             "ticks": ""
            },
            "colorscale": [
             [
              0,
              "#0d0887"
             ],
             [
              0.1111111111111111,
              "#46039f"
             ],
             [
              0.2222222222222222,
              "#7201a8"
             ],
             [
              0.3333333333333333,
              "#9c179e"
             ],
             [
              0.4444444444444444,
              "#bd3786"
             ],
             [
              0.5555555555555556,
              "#d8576b"
             ],
             [
              0.6666666666666666,
              "#ed7953"
             ],
             [
              0.7777777777777778,
              "#fb9f3a"
             ],
             [
              0.8888888888888888,
              "#fdca26"
             ],
             [
              1,
              "#f0f921"
             ]
            ],
            "type": "histogram2d"
           }
          ],
          "histogram2dcontour": [
           {
            "colorbar": {
             "outlinewidth": 0,
             "ticks": ""
            },
            "colorscale": [
             [
              0,
              "#0d0887"
             ],
             [
              0.1111111111111111,
              "#46039f"
             ],
             [
              0.2222222222222222,
              "#7201a8"
             ],
             [
              0.3333333333333333,
              "#9c179e"
             ],
             [
              0.4444444444444444,
              "#bd3786"
             ],
             [
              0.5555555555555556,
              "#d8576b"
             ],
             [
              0.6666666666666666,
              "#ed7953"
             ],
             [
              0.7777777777777778,
              "#fb9f3a"
             ],
             [
              0.8888888888888888,
              "#fdca26"
             ],
             [
              1,
              "#f0f921"
             ]
            ],
            "type": "histogram2dcontour"
           }
          ],
          "mesh3d": [
           {
            "colorbar": {
             "outlinewidth": 0,
             "ticks": ""
            },
            "type": "mesh3d"
           }
          ],
          "parcoords": [
           {
            "line": {
             "colorbar": {
              "outlinewidth": 0,
              "ticks": ""
             }
            },
            "type": "parcoords"
           }
          ],
          "pie": [
           {
            "automargin": true,
            "type": "pie"
           }
          ],
          "scatter": [
           {
            "marker": {
             "line": {
              "color": "#283442"
             }
            },
            "type": "scatter"
           }
          ],
          "scatter3d": [
           {
            "line": {
             "colorbar": {
              "outlinewidth": 0,
              "ticks": ""
             }
            },
            "marker": {
             "colorbar": {
              "outlinewidth": 0,
              "ticks": ""
             }
            },
            "type": "scatter3d"
           }
          ],
          "scattercarpet": [
           {
            "marker": {
             "colorbar": {
              "outlinewidth": 0,
              "ticks": ""
             }
            },
            "type": "scattercarpet"
           }
          ],
          "scattergeo": [
           {
            "marker": {
             "colorbar": {
              "outlinewidth": 0,
              "ticks": ""
             }
            },
            "type": "scattergeo"
           }
          ],
          "scattergl": [
           {
            "marker": {
             "line": {
              "color": "#283442"
             }
            },
            "type": "scattergl"
           }
          ],
          "scattermapbox": [
           {
            "marker": {
             "colorbar": {
              "outlinewidth": 0,
              "ticks": ""
             }
            },
            "type": "scattermapbox"
           }
          ],
          "scatterpolar": [
           {
            "marker": {
             "colorbar": {
              "outlinewidth": 0,
              "ticks": ""
             }
            },
            "type": "scatterpolar"
           }
          ],
          "scatterpolargl": [
           {
            "marker": {
             "colorbar": {
              "outlinewidth": 0,
              "ticks": ""
             }
            },
            "type": "scatterpolargl"
           }
          ],
          "scatterternary": [
           {
            "marker": {
             "colorbar": {
              "outlinewidth": 0,
              "ticks": ""
             }
            },
            "type": "scatterternary"
           }
          ],
          "surface": [
           {
            "colorbar": {
             "outlinewidth": 0,
             "ticks": ""
            },
            "colorscale": [
             [
              0,
              "#0d0887"
             ],
             [
              0.1111111111111111,
              "#46039f"
             ],
             [
              0.2222222222222222,
              "#7201a8"
             ],
             [
              0.3333333333333333,
              "#9c179e"
             ],
             [
              0.4444444444444444,
              "#bd3786"
             ],
             [
              0.5555555555555556,
              "#d8576b"
             ],
             [
              0.6666666666666666,
              "#ed7953"
             ],
             [
              0.7777777777777778,
              "#fb9f3a"
             ],
             [
              0.8888888888888888,
              "#fdca26"
             ],
             [
              1,
              "#f0f921"
             ]
            ],
            "type": "surface"
           }
          ],
          "table": [
           {
            "cells": {
             "fill": {
              "color": "#506784"
             },
             "line": {
              "color": "rgb(17,17,17)"
             }
            },
            "header": {
             "fill": {
              "color": "#2a3f5f"
             },
             "line": {
              "color": "rgb(17,17,17)"
             }
            },
            "type": "table"
           }
          ]
         },
         "layout": {
          "annotationdefaults": {
           "arrowcolor": "#f2f5fa",
           "arrowhead": 0,
           "arrowwidth": 1
          },
          "autotypenumbers": "strict",
          "coloraxis": {
           "colorbar": {
            "outlinewidth": 0,
            "ticks": ""
           }
          },
          "colorscale": {
           "diverging": [
            [
             0,
             "#8e0152"
            ],
            [
             0.1,
             "#c51b7d"
            ],
            [
             0.2,
             "#de77ae"
            ],
            [
             0.3,
             "#f1b6da"
            ],
            [
             0.4,
             "#fde0ef"
            ],
            [
             0.5,
             "#f7f7f7"
            ],
            [
             0.6,
             "#e6f5d0"
            ],
            [
             0.7,
             "#b8e186"
            ],
            [
             0.8,
             "#7fbc41"
            ],
            [
             0.9,
             "#4d9221"
            ],
            [
             1,
             "#276419"
            ]
           ],
           "sequential": [
            [
             0,
             "#0d0887"
            ],
            [
             0.1111111111111111,
             "#46039f"
            ],
            [
             0.2222222222222222,
             "#7201a8"
            ],
            [
             0.3333333333333333,
             "#9c179e"
            ],
            [
             0.4444444444444444,
             "#bd3786"
            ],
            [
             0.5555555555555556,
             "#d8576b"
            ],
            [
             0.6666666666666666,
             "#ed7953"
            ],
            [
             0.7777777777777778,
             "#fb9f3a"
            ],
            [
             0.8888888888888888,
             "#fdca26"
            ],
            [
             1,
             "#f0f921"
            ]
           ],
           "sequentialminus": [
            [
             0,
             "#0d0887"
            ],
            [
             0.1111111111111111,
             "#46039f"
            ],
            [
             0.2222222222222222,
             "#7201a8"
            ],
            [
             0.3333333333333333,
             "#9c179e"
            ],
            [
             0.4444444444444444,
             "#bd3786"
            ],
            [
             0.5555555555555556,
             "#d8576b"
            ],
            [
             0.6666666666666666,
             "#ed7953"
            ],
            [
             0.7777777777777778,
             "#fb9f3a"
            ],
            [
             0.8888888888888888,
             "#fdca26"
            ],
            [
             1,
             "#f0f921"
            ]
           ]
          },
          "colorway": [
           "#636efa",
           "#EF553B",
           "#00cc96",
           "#ab63fa",
           "#FFA15A",
           "#19d3f3",
           "#FF6692",
           "#B6E880",
           "#FF97FF",
           "#FECB52"
          ],
          "font": {
           "color": "#f2f5fa"
          },
          "geo": {
           "bgcolor": "rgb(17,17,17)",
           "lakecolor": "rgb(17,17,17)",
           "landcolor": "rgb(17,17,17)",
           "showlakes": true,
           "showland": true,
           "subunitcolor": "#506784"
          },
          "hoverlabel": {
           "align": "left"
          },
          "hovermode": "closest",
          "mapbox": {
           "style": "dark"
          },
          "paper_bgcolor": "rgb(17,17,17)",
          "plot_bgcolor": "rgb(17,17,17)",
          "polar": {
           "angularaxis": {
            "gridcolor": "#506784",
            "linecolor": "#506784",
            "ticks": ""
           },
           "bgcolor": "rgb(17,17,17)",
           "radialaxis": {
            "gridcolor": "#506784",
            "linecolor": "#506784",
            "ticks": ""
           }
          },
          "scene": {
           "xaxis": {
            "backgroundcolor": "rgb(17,17,17)",
            "gridcolor": "#506784",
            "gridwidth": 2,
            "linecolor": "#506784",
            "showbackground": true,
            "ticks": "",
            "zerolinecolor": "#C8D4E3"
           },
           "yaxis": {
            "backgroundcolor": "rgb(17,17,17)",
            "gridcolor": "#506784",
            "gridwidth": 2,
            "linecolor": "#506784",
            "showbackground": true,
            "ticks": "",
            "zerolinecolor": "#C8D4E3"
           },
           "zaxis": {
            "backgroundcolor": "rgb(17,17,17)",
            "gridcolor": "#506784",
            "gridwidth": 2,
            "linecolor": "#506784",
            "showbackground": true,
            "ticks": "",
            "zerolinecolor": "#C8D4E3"
           }
          },
          "shapedefaults": {
           "line": {
            "color": "#f2f5fa"
           }
          },
          "sliderdefaults": {
           "bgcolor": "#C8D4E3",
           "bordercolor": "rgb(17,17,17)",
           "borderwidth": 1,
           "tickwidth": 0
          },
          "ternary": {
           "aaxis": {
            "gridcolor": "#506784",
            "linecolor": "#506784",
            "ticks": ""
           },
           "baxis": {
            "gridcolor": "#506784",
            "linecolor": "#506784",
            "ticks": ""
           },
           "bgcolor": "rgb(17,17,17)",
           "caxis": {
            "gridcolor": "#506784",
            "linecolor": "#506784",
            "ticks": ""
           }
          },
          "title": {
           "x": 0.05
          },
          "updatemenudefaults": {
           "bgcolor": "#506784",
           "borderwidth": 0
          },
          "xaxis": {
           "automargin": true,
           "gridcolor": "#283442",
           "linecolor": "#506784",
           "ticks": "",
           "title": {
            "standoff": 15
           },
           "zerolinecolor": "#283442",
           "zerolinewidth": 2
          },
          "yaxis": {
           "automargin": true,
           "gridcolor": "#283442",
           "linecolor": "#506784",
           "ticks": "",
           "title": {
            "standoff": 15
           },
           "zerolinecolor": "#283442",
           "zerolinewidth": 2
          }
         }
        },
        "title": {
         "text": "Bar plot the Weekly_sales for each year"
        },
        "width": 500,
        "xaxis": {
         "anchor": "y",
         "domain": [
          0,
          1
         ],
         "title": {
          "text": "Year"
         }
        },
        "yaxis": {
         "anchor": "x",
         "domain": [
          0,
          1
         ],
         "title": {
          "text": "Weekly_Sales"
         }
        }
       }
      }
     },
     "metadata": {},
     "output_type": "display_data"
    }
   ],
   "source": [
    "fig = px.bar(dataset, x=\"Year\",\n",
    "             y=\"Weekly_Sales\",\n",
    "             color='Month',\n",
    "             title=\"Bar plot the Weekly_sales for each year\", # Month as hue\n",
    "             height=500,\n",
    "             width=500,\n",
    "             )\n",
    "fig.show()"
   ]
  },
  {
   "cell_type": "code",
   "execution_count": 205,
   "id": "dcb4d9e2",
   "metadata": {},
   "outputs": [
    {
     "data": {
      "application/vnd.plotly.v1+json": {
       "config": {
        "plotlyServerURL": "https://plot.ly"
       },
       "data": [
        {
         "alignmentgroup": "True",
         "hovertemplate": "Month=%{marker.color}<br>Weekly_Sales=%{y}<extra></extra>",
         "legendgroup": "",
         "marker": {
          "color": [
           2,
           3,
           null,
           5,
           5,
           6,
           2,
           12,
           null,
           8,
           10,
           5,
           3,
           10,
           4,
           8,
           null,
           12,
           4,
           5,
           10,
           3,
           5,
           10,
           1,
           5,
           4,
           8,
           5,
           2,
           2,
           null,
           3,
           9,
           4,
           6,
           11,
           4,
           9,
           null,
           8,
           2,
           2,
           7,
           7,
           8,
           3,
           6,
           11,
           6,
           3,
           7,
           9,
           8,
           7,
           2,
           5,
           3,
           12,
           10,
           12,
           null,
           8,
           2,
           8,
           12,
           12,
           8,
           10,
           6,
           3,
           11,
           9,
           11,
           null,
           null,
           null,
           1,
           null,
           5,
           null,
           null,
           7,
           null,
           null,
           5,
           7,
           5,
           3,
           4,
           6,
           7,
           6,
           1,
           null,
           12,
           6,
           7,
           2,
           2,
           5,
           12,
           6,
           2,
           1,
           11,
           2,
           4,
           6,
           1,
           9,
           7,
           9,
           5,
           6,
           11,
           7,
           8,
           null,
           3,
           11,
           7,
           9,
           7,
           null,
           4,
           5,
           11,
           10,
           6,
           10,
           6,
           null,
           6,
           8,
           4
          ],
          "coloraxis": "coloraxis",
          "pattern": {
           "shape": ""
          }
         },
         "name": "",
         "offsetgroup": "",
         "orientation": "v",
         "showlegend": false,
         "textposition": "auto",
         "type": "bar",
         "x": [
          2,
          3,
          null,
          5,
          5,
          6,
          2,
          12,
          null,
          8,
          10,
          5,
          3,
          10,
          4,
          8,
          null,
          12,
          4,
          5,
          10,
          3,
          5,
          10,
          1,
          5,
          4,
          8,
          5,
          2,
          2,
          null,
          3,
          9,
          4,
          6,
          11,
          4,
          9,
          null,
          8,
          2,
          2,
          7,
          7,
          8,
          3,
          6,
          11,
          6,
          3,
          7,
          9,
          8,
          7,
          2,
          5,
          3,
          12,
          10,
          12,
          null,
          8,
          2,
          8,
          12,
          12,
          8,
          10,
          6,
          3,
          11,
          9,
          11,
          null,
          null,
          null,
          1,
          null,
          5,
          null,
          null,
          7,
          null,
          null,
          5,
          7,
          5,
          3,
          4,
          6,
          7,
          6,
          1,
          null,
          12,
          6,
          7,
          2,
          2,
          5,
          12,
          6,
          2,
          1,
          11,
          2,
          4,
          6,
          1,
          9,
          7,
          9,
          5,
          6,
          11,
          7,
          8,
          null,
          3,
          11,
          7,
          9,
          7,
          null,
          4,
          5,
          11,
          10,
          6,
          10,
          6,
          null,
          6,
          8,
          4
         ],
         "xaxis": "x",
         "y": [
          1572117.54,
          1807545.43,
          1244390.03,
          1644470.66,
          1857533.7,
          695396.19,
          2203523.2,
          2600519.26,
          418925.47,
          895066.5,
          1029618.1,
          414094.05,
          1677472.78,
          829207.27,
          1498080.16,
          1997397.63,
          1205307.5,
          2432736.52,
          561145.14,
          290930.01,
          1074079,
          1427023.45,
          1405007.44,
          919878.34,
          367438.62,
          435397.19,
          757738.76,
          1420405.41,
          1021154.48,
          563460.77,
          2077256.24,
          1853161.99,
          1266564.94,
          365248.94,
          988157.72,
          2008344.92,
          311906.7,
          961186.23,
          526525.16,
          1661767.33,
          629994.47,
          1641957.44,
          1861802.7,
          268929.03,
          1549018.68,
          1624383.75,
          485095.41,
          2035431.39,
          1916812.74,
          509263.28,
          1879451.23,
          1805999.79,
          1847430.96,
          888816.78,
          1532308.78,
          2020550.99,
          2095599.93,
          1990371.02,
          1295605.35,
          313358.15,
          2771397.17,
          1714309.9,
          1166117.85,
          461622.22,
          955913.68,
          1588430.71,
          2461468.35,
          1449142.92,
          1508068.77,
          1973135.87,
          570611.23,
          1539483.7,
          1789687.65,
          519823.3,
          359206.21,
          1569607.94,
          607475.44,
          1758050.79,
          986922.62,
          431985.36,
          2045837.55,
          1797732.56,
          485389.15,
          1046782.52,
          384200.69,
          964332.51,
          1953544.76,
          1494251.5,
          860336.16,
          298697.84,
          1768172.31,
          2018314.71,
          364076.85,
          1799520.14,
          1087051.26,
          2302504.86,
          419497.95,
          1366395.96,
          2095591.63,
          994801.4,
          1256282.79,
          1799737.79,
          1468350.36,
          2124451.54,
          1811606.21,
          1757242.51,
          660838.75,
          457340.06,
          513073.87,
          1864746.1,
          836707.85,
          275142.17,
          597876.55,
          1466046.67,
          1467473.63,
          398838.97,
          614253.33,
          1970341.38,
          1048134.24,
          2025582.62,
          855459.96,
          2036231.39,
          903119.03,
          2066541.86,
          1831676.03,
          1639358.93,
          532739.77,
          301827.36,
          403342.4,
          396968.8,
          424513.08,
          2248645.59,
          716388.81,
          845252.21,
          856796.1,
          1255087.26
         ],
         "yaxis": "y"
        }
       ],
       "layout": {
        "barmode": "relative",
        "coloraxis": {
         "colorbar": {
          "title": {
           "text": "Month"
          }
         },
         "colorscale": [
          [
           0,
           "#0d0887"
          ],
          [
           0.1111111111111111,
           "#46039f"
          ],
          [
           0.2222222222222222,
           "#7201a8"
          ],
          [
           0.3333333333333333,
           "#9c179e"
          ],
          [
           0.4444444444444444,
           "#bd3786"
          ],
          [
           0.5555555555555556,
           "#d8576b"
          ],
          [
           0.6666666666666666,
           "#ed7953"
          ],
          [
           0.7777777777777778,
           "#fb9f3a"
          ],
          [
           0.8888888888888888,
           "#fdca26"
          ],
          [
           1,
           "#f0f921"
          ]
         ]
        },
        "height": 500,
        "legend": {
         "tracegroupgap": 0
        },
        "template": {
         "data": {
          "bar": [
           {
            "error_x": {
             "color": "#f2f5fa"
            },
            "error_y": {
             "color": "#f2f5fa"
            },
            "marker": {
             "line": {
              "color": "rgb(17,17,17)",
              "width": 0.5
             },
             "pattern": {
              "fillmode": "overlay",
              "size": 10,
              "solidity": 0.2
             }
            },
            "type": "bar"
           }
          ],
          "barpolar": [
           {
            "marker": {
             "line": {
              "color": "rgb(17,17,17)",
              "width": 0.5
             },
             "pattern": {
              "fillmode": "overlay",
              "size": 10,
              "solidity": 0.2
             }
            },
            "type": "barpolar"
           }
          ],
          "carpet": [
           {
            "aaxis": {
             "endlinecolor": "#A2B1C6",
             "gridcolor": "#506784",
             "linecolor": "#506784",
             "minorgridcolor": "#506784",
             "startlinecolor": "#A2B1C6"
            },
            "baxis": {
             "endlinecolor": "#A2B1C6",
             "gridcolor": "#506784",
             "linecolor": "#506784",
             "minorgridcolor": "#506784",
             "startlinecolor": "#A2B1C6"
            },
            "type": "carpet"
           }
          ],
          "choropleth": [
           {
            "colorbar": {
             "outlinewidth": 0,
             "ticks": ""
            },
            "type": "choropleth"
           }
          ],
          "contour": [
           {
            "colorbar": {
             "outlinewidth": 0,
             "ticks": ""
            },
            "colorscale": [
             [
              0,
              "#0d0887"
             ],
             [
              0.1111111111111111,
              "#46039f"
             ],
             [
              0.2222222222222222,
              "#7201a8"
             ],
             [
              0.3333333333333333,
              "#9c179e"
             ],
             [
              0.4444444444444444,
              "#bd3786"
             ],
             [
              0.5555555555555556,
              "#d8576b"
             ],
             [
              0.6666666666666666,
              "#ed7953"
             ],
             [
              0.7777777777777778,
              "#fb9f3a"
             ],
             [
              0.8888888888888888,
              "#fdca26"
             ],
             [
              1,
              "#f0f921"
             ]
            ],
            "type": "contour"
           }
          ],
          "contourcarpet": [
           {
            "colorbar": {
             "outlinewidth": 0,
             "ticks": ""
            },
            "type": "contourcarpet"
           }
          ],
          "heatmap": [
           {
            "colorbar": {
             "outlinewidth": 0,
             "ticks": ""
            },
            "colorscale": [
             [
              0,
              "#0d0887"
             ],
             [
              0.1111111111111111,
              "#46039f"
             ],
             [
              0.2222222222222222,
              "#7201a8"
             ],
             [
              0.3333333333333333,
              "#9c179e"
             ],
             [
              0.4444444444444444,
              "#bd3786"
             ],
             [
              0.5555555555555556,
              "#d8576b"
             ],
             [
              0.6666666666666666,
              "#ed7953"
             ],
             [
              0.7777777777777778,
              "#fb9f3a"
             ],
             [
              0.8888888888888888,
              "#fdca26"
             ],
             [
              1,
              "#f0f921"
             ]
            ],
            "type": "heatmap"
           }
          ],
          "heatmapgl": [
           {
            "colorbar": {
             "outlinewidth": 0,
             "ticks": ""
            },
            "colorscale": [
             [
              0,
              "#0d0887"
             ],
             [
              0.1111111111111111,
              "#46039f"
             ],
             [
              0.2222222222222222,
              "#7201a8"
             ],
             [
              0.3333333333333333,
              "#9c179e"
             ],
             [
              0.4444444444444444,
              "#bd3786"
             ],
             [
              0.5555555555555556,
              "#d8576b"
             ],
             [
              0.6666666666666666,
              "#ed7953"
             ],
             [
              0.7777777777777778,
              "#fb9f3a"
             ],
             [
              0.8888888888888888,
              "#fdca26"
             ],
             [
              1,
              "#f0f921"
             ]
            ],
            "type": "heatmapgl"
           }
          ],
          "histogram": [
           {
            "marker": {
             "pattern": {
              "fillmode": "overlay",
              "size": 10,
              "solidity": 0.2
             }
            },
            "type": "histogram"
           }
          ],
          "histogram2d": [
           {
            "colorbar": {
             "outlinewidth": 0,
             "ticks": ""
            },
            "colorscale": [
             [
              0,
              "#0d0887"
             ],
             [
              0.1111111111111111,
              "#46039f"
             ],
             [
              0.2222222222222222,
              "#7201a8"
             ],
             [
              0.3333333333333333,
              "#9c179e"
             ],
             [
              0.4444444444444444,
              "#bd3786"
             ],
             [
              0.5555555555555556,
              "#d8576b"
             ],
             [
              0.6666666666666666,
              "#ed7953"
             ],
             [
              0.7777777777777778,
              "#fb9f3a"
             ],
             [
              0.8888888888888888,
              "#fdca26"
             ],
             [
              1,
              "#f0f921"
             ]
            ],
            "type": "histogram2d"
           }
          ],
          "histogram2dcontour": [
           {
            "colorbar": {
             "outlinewidth": 0,
             "ticks": ""
            },
            "colorscale": [
             [
              0,
              "#0d0887"
             ],
             [
              0.1111111111111111,
              "#46039f"
             ],
             [
              0.2222222222222222,
              "#7201a8"
             ],
             [
              0.3333333333333333,
              "#9c179e"
             ],
             [
              0.4444444444444444,
              "#bd3786"
             ],
             [
              0.5555555555555556,
              "#d8576b"
             ],
             [
              0.6666666666666666,
              "#ed7953"
             ],
             [
              0.7777777777777778,
              "#fb9f3a"
             ],
             [
              0.8888888888888888,
              "#fdca26"
             ],
             [
              1,
              "#f0f921"
             ]
            ],
            "type": "histogram2dcontour"
           }
          ],
          "mesh3d": [
           {
            "colorbar": {
             "outlinewidth": 0,
             "ticks": ""
            },
            "type": "mesh3d"
           }
          ],
          "parcoords": [
           {
            "line": {
             "colorbar": {
              "outlinewidth": 0,
              "ticks": ""
             }
            },
            "type": "parcoords"
           }
          ],
          "pie": [
           {
            "automargin": true,
            "type": "pie"
           }
          ],
          "scatter": [
           {
            "marker": {
             "line": {
              "color": "#283442"
             }
            },
            "type": "scatter"
           }
          ],
          "scatter3d": [
           {
            "line": {
             "colorbar": {
              "outlinewidth": 0,
              "ticks": ""
             }
            },
            "marker": {
             "colorbar": {
              "outlinewidth": 0,
              "ticks": ""
             }
            },
            "type": "scatter3d"
           }
          ],
          "scattercarpet": [
           {
            "marker": {
             "colorbar": {
              "outlinewidth": 0,
              "ticks": ""
             }
            },
            "type": "scattercarpet"
           }
          ],
          "scattergeo": [
           {
            "marker": {
             "colorbar": {
              "outlinewidth": 0,
              "ticks": ""
             }
            },
            "type": "scattergeo"
           }
          ],
          "scattergl": [
           {
            "marker": {
             "line": {
              "color": "#283442"
             }
            },
            "type": "scattergl"
           }
          ],
          "scattermapbox": [
           {
            "marker": {
             "colorbar": {
              "outlinewidth": 0,
              "ticks": ""
             }
            },
            "type": "scattermapbox"
           }
          ],
          "scatterpolar": [
           {
            "marker": {
             "colorbar": {
              "outlinewidth": 0,
              "ticks": ""
             }
            },
            "type": "scatterpolar"
           }
          ],
          "scatterpolargl": [
           {
            "marker": {
             "colorbar": {
              "outlinewidth": 0,
              "ticks": ""
             }
            },
            "type": "scatterpolargl"
           }
          ],
          "scatterternary": [
           {
            "marker": {
             "colorbar": {
              "outlinewidth": 0,
              "ticks": ""
             }
            },
            "type": "scatterternary"
           }
          ],
          "surface": [
           {
            "colorbar": {
             "outlinewidth": 0,
             "ticks": ""
            },
            "colorscale": [
             [
              0,
              "#0d0887"
             ],
             [
              0.1111111111111111,
              "#46039f"
             ],
             [
              0.2222222222222222,
              "#7201a8"
             ],
             [
              0.3333333333333333,
              "#9c179e"
             ],
             [
              0.4444444444444444,
              "#bd3786"
             ],
             [
              0.5555555555555556,
              "#d8576b"
             ],
             [
              0.6666666666666666,
              "#ed7953"
             ],
             [
              0.7777777777777778,
              "#fb9f3a"
             ],
             [
              0.8888888888888888,
              "#fdca26"
             ],
             [
              1,
              "#f0f921"
             ]
            ],
            "type": "surface"
           }
          ],
          "table": [
           {
            "cells": {
             "fill": {
              "color": "#506784"
             },
             "line": {
              "color": "rgb(17,17,17)"
             }
            },
            "header": {
             "fill": {
              "color": "#2a3f5f"
             },
             "line": {
              "color": "rgb(17,17,17)"
             }
            },
            "type": "table"
           }
          ]
         },
         "layout": {
          "annotationdefaults": {
           "arrowcolor": "#f2f5fa",
           "arrowhead": 0,
           "arrowwidth": 1
          },
          "autotypenumbers": "strict",
          "coloraxis": {
           "colorbar": {
            "outlinewidth": 0,
            "ticks": ""
           }
          },
          "colorscale": {
           "diverging": [
            [
             0,
             "#8e0152"
            ],
            [
             0.1,
             "#c51b7d"
            ],
            [
             0.2,
             "#de77ae"
            ],
            [
             0.3,
             "#f1b6da"
            ],
            [
             0.4,
             "#fde0ef"
            ],
            [
             0.5,
             "#f7f7f7"
            ],
            [
             0.6,
             "#e6f5d0"
            ],
            [
             0.7,
             "#b8e186"
            ],
            [
             0.8,
             "#7fbc41"
            ],
            [
             0.9,
             "#4d9221"
            ],
            [
             1,
             "#276419"
            ]
           ],
           "sequential": [
            [
             0,
             "#0d0887"
            ],
            [
             0.1111111111111111,
             "#46039f"
            ],
            [
             0.2222222222222222,
             "#7201a8"
            ],
            [
             0.3333333333333333,
             "#9c179e"
            ],
            [
             0.4444444444444444,
             "#bd3786"
            ],
            [
             0.5555555555555556,
             "#d8576b"
            ],
            [
             0.6666666666666666,
             "#ed7953"
            ],
            [
             0.7777777777777778,
             "#fb9f3a"
            ],
            [
             0.8888888888888888,
             "#fdca26"
            ],
            [
             1,
             "#f0f921"
            ]
           ],
           "sequentialminus": [
            [
             0,
             "#0d0887"
            ],
            [
             0.1111111111111111,
             "#46039f"
            ],
            [
             0.2222222222222222,
             "#7201a8"
            ],
            [
             0.3333333333333333,
             "#9c179e"
            ],
            [
             0.4444444444444444,
             "#bd3786"
            ],
            [
             0.5555555555555556,
             "#d8576b"
            ],
            [
             0.6666666666666666,
             "#ed7953"
            ],
            [
             0.7777777777777778,
             "#fb9f3a"
            ],
            [
             0.8888888888888888,
             "#fdca26"
            ],
            [
             1,
             "#f0f921"
            ]
           ]
          },
          "colorway": [
           "#636efa",
           "#EF553B",
           "#00cc96",
           "#ab63fa",
           "#FFA15A",
           "#19d3f3",
           "#FF6692",
           "#B6E880",
           "#FF97FF",
           "#FECB52"
          ],
          "font": {
           "color": "#f2f5fa"
          },
          "geo": {
           "bgcolor": "rgb(17,17,17)",
           "lakecolor": "rgb(17,17,17)",
           "landcolor": "rgb(17,17,17)",
           "showlakes": true,
           "showland": true,
           "subunitcolor": "#506784"
          },
          "hoverlabel": {
           "align": "left"
          },
          "hovermode": "closest",
          "mapbox": {
           "style": "dark"
          },
          "paper_bgcolor": "rgb(17,17,17)",
          "plot_bgcolor": "rgb(17,17,17)",
          "polar": {
           "angularaxis": {
            "gridcolor": "#506784",
            "linecolor": "#506784",
            "ticks": ""
           },
           "bgcolor": "rgb(17,17,17)",
           "radialaxis": {
            "gridcolor": "#506784",
            "linecolor": "#506784",
            "ticks": ""
           }
          },
          "scene": {
           "xaxis": {
            "backgroundcolor": "rgb(17,17,17)",
            "gridcolor": "#506784",
            "gridwidth": 2,
            "linecolor": "#506784",
            "showbackground": true,
            "ticks": "",
            "zerolinecolor": "#C8D4E3"
           },
           "yaxis": {
            "backgroundcolor": "rgb(17,17,17)",
            "gridcolor": "#506784",
            "gridwidth": 2,
            "linecolor": "#506784",
            "showbackground": true,
            "ticks": "",
            "zerolinecolor": "#C8D4E3"
           },
           "zaxis": {
            "backgroundcolor": "rgb(17,17,17)",
            "gridcolor": "#506784",
            "gridwidth": 2,
            "linecolor": "#506784",
            "showbackground": true,
            "ticks": "",
            "zerolinecolor": "#C8D4E3"
           }
          },
          "shapedefaults": {
           "line": {
            "color": "#f2f5fa"
           }
          },
          "sliderdefaults": {
           "bgcolor": "#C8D4E3",
           "bordercolor": "rgb(17,17,17)",
           "borderwidth": 1,
           "tickwidth": 0
          },
          "ternary": {
           "aaxis": {
            "gridcolor": "#506784",
            "linecolor": "#506784",
            "ticks": ""
           },
           "baxis": {
            "gridcolor": "#506784",
            "linecolor": "#506784",
            "ticks": ""
           },
           "bgcolor": "rgb(17,17,17)",
           "caxis": {
            "gridcolor": "#506784",
            "linecolor": "#506784",
            "ticks": ""
           }
          },
          "title": {
           "x": 0.05
          },
          "updatemenudefaults": {
           "bgcolor": "#506784",
           "borderwidth": 0
          },
          "xaxis": {
           "automargin": true,
           "gridcolor": "#283442",
           "linecolor": "#506784",
           "ticks": "",
           "title": {
            "standoff": 15
           },
           "zerolinecolor": "#283442",
           "zerolinewidth": 2
          },
          "yaxis": {
           "automargin": true,
           "gridcolor": "#283442",
           "linecolor": "#506784",
           "ticks": "",
           "title": {
            "standoff": 15
           },
           "zerolinecolor": "#283442",
           "zerolinewidth": 2
          }
         }
        },
        "title": {
         "text": "Bar plot the Weekly_sales for each month"
        },
        "width": 500,
        "xaxis": {
         "anchor": "y",
         "domain": [
          0,
          1
         ],
         "title": {
          "text": "Month"
         }
        },
        "yaxis": {
         "anchor": "x",
         "domain": [
          0,
          1
         ],
         "title": {
          "text": "Weekly_Sales"
         }
        }
       }
      }
     },
     "metadata": {},
     "output_type": "display_data"
    }
   ],
   "source": [
    "fig = px.bar(dataset, x=\"Month\",\n",
    "             y=\"Weekly_Sales\",\n",
    "             color='Month',\n",
    "             title=\"Bar plot the Weekly_sales for each month\",\n",
    "             height=500,\n",
    "             width=500,\n",
    "             )\n",
    "fig.show()"
   ]
  },
  {
   "attachments": {},
   "cell_type": "markdown",
   "id": "326c14a0",
   "metadata": {},
   "source": [
    "Weekly sales are higher at the end of the years."
   ]
  },
  {
   "attachments": {},
   "cell_type": "markdown",
   "id": "8abb624c",
   "metadata": {},
   "source": [
    "### *Part 3 : All the necessary preprocessings to prepare data for machine learning (linear regression) Y = 'Weekly_Sales'* ###"
   ]
  },
  {
   "cell_type": "code",
   "execution_count": 206,
   "id": "32c251ca-a160-4ca5-9438-3fef4ae20356",
   "metadata": {},
   "outputs": [],
   "source": [
    "# Let's drop lines containing invalid values or outliers. \n",
    "# This concerns the columns : Temperature, Fuel_price, CPI and Unemployment :\n",
    "Uppertemperature = dataset['Temperature'].mean()+(3*dataset['Temperature'].std())\n",
    "Lowertemperature = dataset['Temperature'].mean()-(3*dataset['Temperature'].std())\n",
    "UpperFuelPrice = dataset['Fuel_Price'].mean()+(3*dataset['Fuel_Price'].std())\n",
    "LowerFuelPrice = dataset['Fuel_Price'].mean()-(3*dataset['Fuel_Price'].std())\n",
    "UpperCPI = dataset['CPI'].mean()+(3*dataset['CPI'].std())\n",
    "LowerCPI = dataset['CPI'].mean()-(3*dataset['CPI'].std())\n",
    "UpperUnemployment = dataset['Unemployment'].mean()+(3*dataset['Unemployment'].std())\n",
    "LowerUnemployment = dataset['Unemployment'].mean()-(3*dataset['Unemployment'].std())"
   ]
  },
  {
   "cell_type": "code",
   "execution_count": 207,
   "id": "f5c9ff55-79ec-4e97-a080-8d1a97797a88",
   "metadata": {},
   "outputs": [
    {
     "data": {
      "text/html": [
       "<div>\n",
       "<style scoped>\n",
       "    .dataframe tbody tr th:only-of-type {\n",
       "        vertical-align: middle;\n",
       "    }\n",
       "\n",
       "    .dataframe tbody tr th {\n",
       "        vertical-align: top;\n",
       "    }\n",
       "\n",
       "    .dataframe thead th {\n",
       "        text-align: right;\n",
       "    }\n",
       "</style>\n",
       "<table border=\"1\" class=\"dataframe\">\n",
       "  <thead>\n",
       "    <tr style=\"text-align: right;\">\n",
       "      <th></th>\n",
       "      <th>Store</th>\n",
       "      <th>Weekly_Sales</th>\n",
       "      <th>Holiday_Flag</th>\n",
       "      <th>Temperature</th>\n",
       "      <th>Fuel_Price</th>\n",
       "      <th>CPI</th>\n",
       "      <th>Unemployment</th>\n",
       "      <th>Day</th>\n",
       "      <th>Month</th>\n",
       "      <th>Year</th>\n",
       "      <th>Day_of_week</th>\n",
       "    </tr>\n",
       "  </thead>\n",
       "  <tbody>\n",
       "    <tr>\n",
       "      <th>0</th>\n",
       "      <td>6.0</td>\n",
       "      <td>1572117.54</td>\n",
       "      <td>NaN</td>\n",
       "      <td>59.61</td>\n",
       "      <td>3.045</td>\n",
       "      <td>214.777523</td>\n",
       "      <td>6.858</td>\n",
       "      <td>18.0</td>\n",
       "      <td>2.0</td>\n",
       "      <td>2011.0</td>\n",
       "      <td>4.0</td>\n",
       "    </tr>\n",
       "    <tr>\n",
       "      <th>1</th>\n",
       "      <td>13.0</td>\n",
       "      <td>1807545.43</td>\n",
       "      <td>0.0</td>\n",
       "      <td>42.38</td>\n",
       "      <td>3.435</td>\n",
       "      <td>128.616064</td>\n",
       "      <td>7.470</td>\n",
       "      <td>25.0</td>\n",
       "      <td>3.0</td>\n",
       "      <td>2011.0</td>\n",
       "      <td>4.0</td>\n",
       "    </tr>\n",
       "    <tr>\n",
       "      <th>4</th>\n",
       "      <td>6.0</td>\n",
       "      <td>1644470.66</td>\n",
       "      <td>0.0</td>\n",
       "      <td>78.89</td>\n",
       "      <td>2.759</td>\n",
       "      <td>212.412888</td>\n",
       "      <td>7.092</td>\n",
       "      <td>28.0</td>\n",
       "      <td>5.0</td>\n",
       "      <td>2010.0</td>\n",
       "      <td>4.0</td>\n",
       "    </tr>\n",
       "    <tr>\n",
       "      <th>6</th>\n",
       "      <td>15.0</td>\n",
       "      <td>695396.19</td>\n",
       "      <td>0.0</td>\n",
       "      <td>69.80</td>\n",
       "      <td>4.069</td>\n",
       "      <td>134.855161</td>\n",
       "      <td>7.658</td>\n",
       "      <td>3.0</td>\n",
       "      <td>6.0</td>\n",
       "      <td>2011.0</td>\n",
       "      <td>4.0</td>\n",
       "    </tr>\n",
       "    <tr>\n",
       "      <th>7</th>\n",
       "      <td>20.0</td>\n",
       "      <td>2203523.20</td>\n",
       "      <td>0.0</td>\n",
       "      <td>39.93</td>\n",
       "      <td>3.617</td>\n",
       "      <td>213.023622</td>\n",
       "      <td>6.961</td>\n",
       "      <td>3.0</td>\n",
       "      <td>2.0</td>\n",
       "      <td>2012.0</td>\n",
       "      <td>4.0</td>\n",
       "    </tr>\n",
       "    <tr>\n",
       "      <th>...</th>\n",
       "      <td>...</td>\n",
       "      <td>...</td>\n",
       "      <td>...</td>\n",
       "      <td>...</td>\n",
       "      <td>...</td>\n",
       "      <td>...</td>\n",
       "      <td>...</td>\n",
       "      <td>...</td>\n",
       "      <td>...</td>\n",
       "      <td>...</td>\n",
       "      <td>...</td>\n",
       "    </tr>\n",
       "    <tr>\n",
       "      <th>139</th>\n",
       "      <td>7.0</td>\n",
       "      <td>532739.77</td>\n",
       "      <td>0.0</td>\n",
       "      <td>50.60</td>\n",
       "      <td>3.804</td>\n",
       "      <td>197.588605</td>\n",
       "      <td>8.090</td>\n",
       "      <td>25.0</td>\n",
       "      <td>5.0</td>\n",
       "      <td>2012.0</td>\n",
       "      <td>4.0</td>\n",
       "    </tr>\n",
       "    <tr>\n",
       "      <th>143</th>\n",
       "      <td>3.0</td>\n",
       "      <td>396968.80</td>\n",
       "      <td>0.0</td>\n",
       "      <td>78.53</td>\n",
       "      <td>2.705</td>\n",
       "      <td>214.495838</td>\n",
       "      <td>7.343</td>\n",
       "      <td>4.0</td>\n",
       "      <td>6.0</td>\n",
       "      <td>2010.0</td>\n",
       "      <td>4.0</td>\n",
       "    </tr>\n",
       "    <tr>\n",
       "      <th>144</th>\n",
       "      <td>3.0</td>\n",
       "      <td>424513.08</td>\n",
       "      <td>0.0</td>\n",
       "      <td>73.44</td>\n",
       "      <td>3.594</td>\n",
       "      <td>226.968844</td>\n",
       "      <td>6.034</td>\n",
       "      <td>19.0</td>\n",
       "      <td>10.0</td>\n",
       "      <td>2012.0</td>\n",
       "      <td>4.0</td>\n",
       "    </tr>\n",
       "    <tr>\n",
       "      <th>145</th>\n",
       "      <td>14.0</td>\n",
       "      <td>2248645.59</td>\n",
       "      <td>0.0</td>\n",
       "      <td>72.62</td>\n",
       "      <td>2.780</td>\n",
       "      <td>182.442420</td>\n",
       "      <td>8.899</td>\n",
       "      <td>18.0</td>\n",
       "      <td>6.0</td>\n",
       "      <td>2010.0</td>\n",
       "      <td>4.0</td>\n",
       "    </tr>\n",
       "    <tr>\n",
       "      <th>149</th>\n",
       "      <td>19.0</td>\n",
       "      <td>1255087.26</td>\n",
       "      <td>0.0</td>\n",
       "      <td>55.20</td>\n",
       "      <td>4.170</td>\n",
       "      <td>137.923067</td>\n",
       "      <td>8.150</td>\n",
       "      <td>20.0</td>\n",
       "      <td>4.0</td>\n",
       "      <td>2012.0</td>\n",
       "      <td>4.0</td>\n",
       "    </tr>\n",
       "  </tbody>\n",
       "</table>\n",
       "<p>90 rows × 11 columns</p>\n",
       "</div>"
      ],
      "text/plain": [
       "     Store  Weekly_Sales  Holiday_Flag  Temperature  Fuel_Price         CPI  \\\n",
       "0      6.0    1572117.54           NaN        59.61       3.045  214.777523   \n",
       "1     13.0    1807545.43           0.0        42.38       3.435  128.616064   \n",
       "4      6.0    1644470.66           0.0        78.89       2.759  212.412888   \n",
       "6     15.0     695396.19           0.0        69.80       4.069  134.855161   \n",
       "7     20.0    2203523.20           0.0        39.93       3.617  213.023622   \n",
       "..     ...           ...           ...          ...         ...         ...   \n",
       "139    7.0     532739.77           0.0        50.60       3.804  197.588605   \n",
       "143    3.0     396968.80           0.0        78.53       2.705  214.495838   \n",
       "144    3.0     424513.08           0.0        73.44       3.594  226.968844   \n",
       "145   14.0    2248645.59           0.0        72.62       2.780  182.442420   \n",
       "149   19.0    1255087.26           0.0        55.20       4.170  137.923067   \n",
       "\n",
       "     Unemployment   Day  Month    Year  Day_of_week  \n",
       "0           6.858  18.0    2.0  2011.0          4.0  \n",
       "1           7.470  25.0    3.0  2011.0          4.0  \n",
       "4           7.092  28.0    5.0  2010.0          4.0  \n",
       "6           7.658   3.0    6.0  2011.0          4.0  \n",
       "7           6.961   3.0    2.0  2012.0          4.0  \n",
       "..            ...   ...    ...     ...          ...  \n",
       "139         8.090  25.0    5.0  2012.0          4.0  \n",
       "143         7.343   4.0    6.0  2010.0          4.0  \n",
       "144         6.034  19.0   10.0  2012.0          4.0  \n",
       "145         8.899  18.0    6.0  2010.0          4.0  \n",
       "149         8.150  20.0    4.0  2012.0          4.0  \n",
       "\n",
       "[90 rows x 11 columns]"
      ]
     },
     "execution_count": 207,
     "metadata": {},
     "output_type": "execute_result"
    }
   ],
   "source": [
    "# Let's create new dataframe without outliers\n",
    "dataset = dataset[(dataset[\"Temperature\"] < Uppertemperature) & (dataset[\"Temperature\"] > Lowertemperature)]\n",
    "dataset = dataset[(dataset[\"Fuel_Price\"] < UpperFuelPrice) & (dataset[\"Fuel_Price\"] > LowerFuelPrice)]\n",
    "dataset = dataset[(dataset[\"CPI\"] < UpperCPI) & (dataset[\"CPI\"] > LowerCPI)]\n",
    "dataset = dataset[(dataset[\"Unemployment\"] < UpperUnemployment) & (dataset[\"Unemployment\"] > LowerUnemployment)]\n",
    "dataset"
   ]
  },
  {
   "cell_type": "code",
   "execution_count": 208,
   "id": "efcb4e92-c155-4d0d-8b5e-c03970a64648",
   "metadata": {},
   "outputs": [
    {
     "name": "stdout",
     "output_type": "stream",
     "text": [
      "Separating labels from features...\n",
      "...Done.\n",
      "\n",
      "Y : \n",
      "0    1572117.54\n",
      "1    1807545.43\n",
      "4    1644470.66\n",
      "6     695396.19\n",
      "7    2203523.20\n",
      "Name: Weekly_Sales, dtype: float64\n",
      "\n",
      "X :\n",
      "   Store  Holiday_Flag  Temperature  Fuel_Price         CPI  Unemployment  \\\n",
      "0    6.0           NaN        59.61       3.045  214.777523         6.858   \n",
      "1   13.0           0.0        42.38       3.435  128.616064         7.470   \n",
      "4    6.0           0.0        78.89       2.759  212.412888         7.092   \n",
      "6   15.0           0.0        69.80       4.069  134.855161         7.658   \n",
      "7   20.0           0.0        39.93       3.617  213.023622         6.961   \n",
      "\n",
      "    Day  Month    Year  Day_of_week  \n",
      "0  18.0    2.0  2011.0          4.0  \n",
      "1  25.0    3.0  2011.0          4.0  \n",
      "4  28.0    5.0  2010.0          4.0  \n",
      "6   3.0    6.0  2011.0          4.0  \n",
      "7   3.0    2.0  2012.0          4.0  \n"
     ]
    }
   ],
   "source": [
    "# Separate target variable Y from features X\n",
    "print(\"Separating labels from features...\")\n",
    "target_variable = \"Weekly_Sales\"\n",
    "\n",
    "X = dataset.drop(target_variable, axis = 1)\n",
    "Y = dataset.loc[:,target_variable]\n",
    "\n",
    "print(\"...Done.\")\n",
    "print()\n",
    "\n",
    "print('Y : ')\n",
    "print(Y.head())\n",
    "print()\n",
    "print('X :')\n",
    "print(X.head())"
   ]
  },
  {
   "cell_type": "code",
   "execution_count": 209,
   "id": "b293b398-ab2b-493a-8c30-2217f4ae7a56",
   "metadata": {},
   "outputs": [
    {
     "name": "stdout",
     "output_type": "stream",
     "text": [
      "Splitting dataset into train set and test set...\n",
      "...Done.\n"
     ]
    }
   ],
   "source": [
    "# Divide dataset Train set & Test set \n",
    "print(\"Splitting dataset into train set and test set...\")\n",
    "## Then we use train_test_split\n",
    "X_train, X_test, Y_train, Y_test = train_test_split(X, Y, \n",
    "                                                    test_size=0.2, \n",
    "                                                    random_state=0) # We decide to choose the size of the test set at 20%      \n",
    "                                                                    # 20% of the rows of the data are gonna be in the train and 20% in the test        \n",
    "print(\"...Done.\")                                                   "
   ]
  },
  {
   "cell_type": "code",
   "execution_count": 210,
   "id": "aeccc772-94c9-4eee-9887-6e7df2c677fb",
   "metadata": {},
   "outputs": [],
   "source": [
    "X = X.astype({\"Store\":\"object\",\"Holiday_Flag\":'object', \"Year\":\"float64\", \"Month\":\"float64\", \"Day\":\"float64\"})"
   ]
  },
  {
   "cell_type": "code",
   "execution_count": 211,
   "id": "88338dc1-8a4a-4164-bb22-9579b7e23aac",
   "metadata": {},
   "outputs": [
    {
     "data": {
      "text/plain": [
       "Index(['Temperature', 'Fuel_Price', 'CPI', 'Unemployment', 'Day', 'Month',\n",
       "       'Year', 'Day_of_week'],\n",
       "      dtype='object')"
      ]
     },
     "execution_count": 211,
     "metadata": {},
     "output_type": "execute_result"
    }
   ],
   "source": [
    "numeric_features = X.select_dtypes([np.number]).columns\n",
    "numeric_features"
   ]
  },
  {
   "cell_type": "code",
   "execution_count": 212,
   "id": "804695bd-fe78-40ec-91d5-bd59307ce74e",
   "metadata": {},
   "outputs": [
    {
     "data": {
      "text/plain": [
       "Index(['Store', 'Holiday_Flag'], dtype='object')"
      ]
     },
     "execution_count": 212,
     "metadata": {},
     "output_type": "execute_result"
    }
   ],
   "source": [
    "categorical_features = X.select_dtypes(\"object\").columns\n",
    "categorical_features"
   ]
  },
  {
   "cell_type": "code",
   "execution_count": 213,
   "id": "ae7f50d0",
   "metadata": {},
   "outputs": [],
   "source": [
    "# Create numerical and categorical variables tranformers with pipelines function\n",
    "# Use SimpleImputer to change missing numerical values with the median and standardScaler to standardize numerical values\n",
    "numerical_transformer = Pipeline(steps=[\n",
    "    ('imputer', SimpleImputer(strategy='median')),\n",
    "    ('scaler', StandardScaler())])# Use SimpleImputer to change missing categorical values with the most frequent value and OneHotEncoder to assign a code to values\n",
    "# The paramater drop = 'first' delete the first code column to avoid colinearity \n",
    "categorical_transformer = Pipeline(steps=[\n",
    "    ('imputer', SimpleImputer(strategy='most_frequent')),\n",
    "    ('encoder', OneHotEncoder(drop='first'))\n",
    "    ])"
   ]
  },
  {
   "cell_type": "code",
   "execution_count": 214,
   "id": "a2922f9c-9ae9-4510-937c-35181f6039e4",
   "metadata": {},
   "outputs": [],
   "source": [
    "# Create preprocess variable by using ColumnTransformer function to apply the different tranformers in the pipelines\n",
    "preprocess = ColumnTransformer(\n",
    "    transformers=[\n",
    "        ('num', numerical_transformer, numeric_features),\n",
    "        ('cat', categorical_transformer, categorical_features)\n",
    "    ])\n",
    "# Apply preprocess on the X_train with fit_transform function (calculate the mean and variance of training set with 'fit' method)\n",
    "X_train = preprocess.fit_transform(X_train)\n",
    "# Apply preprocess on the X_test with transform function fit on the training set.\n",
    "X_test = preprocess.transform(X_test)"
   ]
  },
  {
   "attachments": {},
   "cell_type": "markdown",
   "id": "e7a10279",
   "metadata": {},
   "source": [
    "### *Part 4 : train a linear regression model (baseline)* ###"
   ]
  },
  {
   "cell_type": "code",
   "execution_count": 215,
   "id": "6e9e1f32-6d19-4c3a-a1b4-539f93b4ee7f",
   "metadata": {},
   "outputs": [
    {
     "data": {
      "text/plain": [
       "LinearRegression()"
      ]
     },
     "execution_count": 215,
     "metadata": {},
     "output_type": "execute_result"
    }
   ],
   "source": [
    "# train a linear regression model (baseline)\n",
    "model = LinearRegression()\n",
    "model.fit(X_train, Y_train)"
   ]
  },
  {
   "cell_type": "code",
   "execution_count": 216,
   "id": "d8ceba9b-1eab-4709-a9e7-100294c7dd5d",
   "metadata": {},
   "outputs": [
    {
     "name": "stdout",
     "output_type": "stream",
     "text": [
      "R2 score on training set :  0.9868321417045137\n",
      "R2 score on test set :  0.9352216314000095\n"
     ]
    }
   ],
   "source": [
    "# Make prediction with the function fit on the training set\n",
    "Y_train_pred = model.predict(X_train)\n",
    "Y_test_pred = model.predict(X_test)\n",
    "\n",
    "\n",
    "# Display R2 scores for this model\n",
    "print(\"R2 score on training set : \", r2_score(Y_train, Y_train_pred))\n",
    "print(\"R2 score on test set : \", r2_score(Y_test, Y_test_pred))"
   ]
  },
  {
   "cell_type": "code",
   "execution_count": 217,
   "id": "3bee1e69-085e-49e0-8084-c255e8de0145",
   "metadata": {},
   "outputs": [
    {
     "name": "stdout",
     "output_type": "stream",
     "text": [
      "Les scores obtenus en cross validation sont les suivants : [0.96696353 0.96508244 0.98023182 0.96465329 0.89361965]\n",
      "La moyenne des scores cross_val est de 0.9541101472556672\n",
      "L'écart-type des scores cross_val est de 0.030783765824679964\n"
     ]
    }
   ],
   "source": [
    "scores = cross_val_score(model, X_train, Y_train, cv = 5)\n",
    "print(f'Les scores obtenus en cross validation sont les suivants : {scores}')\n",
    "print(f'La moyenne des scores cross_val est de {scores.mean()}')\n",
    "print(f\"L'écart-type des scores cross_val est de {scores.std()}\")"
   ]
  },
  {
   "cell_type": "code",
   "execution_count": 219,
   "id": "4ae09be4-c141-42ba-b879-dbaa418514b8",
   "metadata": {},
   "outputs": [
    {
     "data": {
      "text/plain": [
       "array([-1.14627040e+04, -5.79848294e+04,  7.17469905e+05,  3.24784968e+04,\n",
       "       -4.95926514e+04,  1.72431945e+04, -6.89502249e+03,  1.90921128e-08,\n",
       "        2.71338356e+05, -1.25098749e+06,  2.20417284e+06, -1.22743289e+06,\n",
       "        1.00272537e+05, -6.19830015e+05, -6.56196703e+05, -1.10251725e+06,\n",
       "        1.79845728e+06,  2.19379595e+05,  2.06681366e+06,  1.01734744e+06,\n",
       "        5.89257732e+05, -5.77586044e+05,  8.56056660e+05,  9.87464428e+05,\n",
       "        1.32821080e+06,  5.92403256e+05, -5.35303229e+04])"
      ]
     },
     "execution_count": 219,
     "metadata": {},
     "output_type": "execute_result"
    }
   ],
   "source": [
    "# Let's analyze the values of the model's coefficients to know what features are important for the prediction\n",
    "# The model's parameters are saved in a .coef_ attribute :\n",
    "model.coef_"
   ]
  },
  {
   "cell_type": "code",
   "execution_count": 220,
   "id": "b6883015-9d12-48f5-9785-8b4f2b92825c",
   "metadata": {},
   "outputs": [
    {
     "name": "stdout",
     "output_type": "stream",
     "text": [
      "Names of columns corresponding to each coefficient:  ['Temperature', 'Fuel_Price', 'CPI', 'Unemployment', 'Day', 'Month', 'Year', 'Day_of_week', 'x0_2.0', 'x0_3.0', 'x0_4.0', 'x0_5.0', 'x0_6.0', 'x0_7.0', 'x0_8.0', 'x0_9.0', 'x0_10.0', 'x0_11.0', 'x0_13.0', 'x0_14.0', 'x0_15.0', 'x0_16.0', 'x0_17.0', 'x0_18.0', 'x0_19.0', 'x0_20.0', 'x1_1.0']\n"
     ]
    }
   ],
   "source": [
    "# Each coefficient can be linked with the name of the corresponding feature by digging into the different pipelines that were used to produce the final version of the X_train/X_test arrays:\n",
    "\n",
    "column_names = []\n",
    "for name, pipeline, features_list in preprocess.transformers_: # loop over pipelines\n",
    "    if name == 'num': # if pipeline is for numeric variables\n",
    "        features = features_list # just get the names of columns to which it has been applied\n",
    "    else: # if pipeline is for categorical variables\n",
    "        features = pipeline.named_steps['encoder'].get_feature_names_out() # get output columns names from OneHotEncoder\n",
    "    column_names.extend(features) # concatenate features names\n",
    "        \n",
    "print(\"Names of columns corresponding to each coefficient: \", column_names)"
   ]
  },
  {
   "cell_type": "code",
   "execution_count": 221,
   "id": "55c8ad60-a6d3-4e50-88c0-eb1239c0d06f",
   "metadata": {},
   "outputs": [
    {
     "data": {
      "text/html": [
       "<div>\n",
       "<style scoped>\n",
       "    .dataframe tbody tr th:only-of-type {\n",
       "        vertical-align: middle;\n",
       "    }\n",
       "\n",
       "    .dataframe tbody tr th {\n",
       "        vertical-align: top;\n",
       "    }\n",
       "\n",
       "    .dataframe thead th {\n",
       "        text-align: right;\n",
       "    }\n",
       "</style>\n",
       "<table border=\"1\" class=\"dataframe\">\n",
       "  <thead>\n",
       "    <tr style=\"text-align: right;\">\n",
       "      <th></th>\n",
       "      <th>coefficients</th>\n",
       "    </tr>\n",
       "  </thead>\n",
       "  <tbody>\n",
       "    <tr>\n",
       "      <th>Temperature</th>\n",
       "      <td>-1.146270e+04</td>\n",
       "    </tr>\n",
       "    <tr>\n",
       "      <th>Fuel_Price</th>\n",
       "      <td>-5.798483e+04</td>\n",
       "    </tr>\n",
       "    <tr>\n",
       "      <th>CPI</th>\n",
       "      <td>7.174699e+05</td>\n",
       "    </tr>\n",
       "    <tr>\n",
       "      <th>Unemployment</th>\n",
       "      <td>3.247850e+04</td>\n",
       "    </tr>\n",
       "    <tr>\n",
       "      <th>Day</th>\n",
       "      <td>-4.959265e+04</td>\n",
       "    </tr>\n",
       "    <tr>\n",
       "      <th>Month</th>\n",
       "      <td>1.724319e+04</td>\n",
       "    </tr>\n",
       "    <tr>\n",
       "      <th>Year</th>\n",
       "      <td>-6.895022e+03</td>\n",
       "    </tr>\n",
       "    <tr>\n",
       "      <th>Day_of_week</th>\n",
       "      <td>1.909211e-08</td>\n",
       "    </tr>\n",
       "    <tr>\n",
       "      <th>x0_2.0</th>\n",
       "      <td>2.713384e+05</td>\n",
       "    </tr>\n",
       "    <tr>\n",
       "      <th>x0_3.0</th>\n",
       "      <td>-1.250987e+06</td>\n",
       "    </tr>\n",
       "    <tr>\n",
       "      <th>x0_4.0</th>\n",
       "      <td>2.204173e+06</td>\n",
       "    </tr>\n",
       "    <tr>\n",
       "      <th>x0_5.0</th>\n",
       "      <td>-1.227433e+06</td>\n",
       "    </tr>\n",
       "    <tr>\n",
       "      <th>x0_6.0</th>\n",
       "      <td>1.002725e+05</td>\n",
       "    </tr>\n",
       "    <tr>\n",
       "      <th>x0_7.0</th>\n",
       "      <td>-6.198300e+05</td>\n",
       "    </tr>\n",
       "    <tr>\n",
       "      <th>x0_8.0</th>\n",
       "      <td>-6.561967e+05</td>\n",
       "    </tr>\n",
       "    <tr>\n",
       "      <th>x0_9.0</th>\n",
       "      <td>-1.102517e+06</td>\n",
       "    </tr>\n",
       "    <tr>\n",
       "      <th>x0_10.0</th>\n",
       "      <td>1.798457e+06</td>\n",
       "    </tr>\n",
       "    <tr>\n",
       "      <th>x0_11.0</th>\n",
       "      <td>2.193796e+05</td>\n",
       "    </tr>\n",
       "    <tr>\n",
       "      <th>x0_13.0</th>\n",
       "      <td>2.066814e+06</td>\n",
       "    </tr>\n",
       "    <tr>\n",
       "      <th>x0_14.0</th>\n",
       "      <td>1.017347e+06</td>\n",
       "    </tr>\n",
       "    <tr>\n",
       "      <th>x0_15.0</th>\n",
       "      <td>5.892577e+05</td>\n",
       "    </tr>\n",
       "    <tr>\n",
       "      <th>x0_16.0</th>\n",
       "      <td>-5.775860e+05</td>\n",
       "    </tr>\n",
       "    <tr>\n",
       "      <th>x0_17.0</th>\n",
       "      <td>8.560567e+05</td>\n",
       "    </tr>\n",
       "    <tr>\n",
       "      <th>x0_18.0</th>\n",
       "      <td>9.874644e+05</td>\n",
       "    </tr>\n",
       "    <tr>\n",
       "      <th>x0_19.0</th>\n",
       "      <td>1.328211e+06</td>\n",
       "    </tr>\n",
       "    <tr>\n",
       "      <th>x0_20.0</th>\n",
       "      <td>5.924033e+05</td>\n",
       "    </tr>\n",
       "    <tr>\n",
       "      <th>x1_1.0</th>\n",
       "      <td>-5.353032e+04</td>\n",
       "    </tr>\n",
       "  </tbody>\n",
       "</table>\n",
       "</div>"
      ],
      "text/plain": [
       "              coefficients\n",
       "Temperature  -1.146270e+04\n",
       "Fuel_Price   -5.798483e+04\n",
       "CPI           7.174699e+05\n",
       "Unemployment  3.247850e+04\n",
       "Day          -4.959265e+04\n",
       "Month         1.724319e+04\n",
       "Year         -6.895022e+03\n",
       "Day_of_week   1.909211e-08\n",
       "x0_2.0        2.713384e+05\n",
       "x0_3.0       -1.250987e+06\n",
       "x0_4.0        2.204173e+06\n",
       "x0_5.0       -1.227433e+06\n",
       "x0_6.0        1.002725e+05\n",
       "x0_7.0       -6.198300e+05\n",
       "x0_8.0       -6.561967e+05\n",
       "x0_9.0       -1.102517e+06\n",
       "x0_10.0       1.798457e+06\n",
       "x0_11.0       2.193796e+05\n",
       "x0_13.0       2.066814e+06\n",
       "x0_14.0       1.017347e+06\n",
       "x0_15.0       5.892577e+05\n",
       "x0_16.0      -5.775860e+05\n",
       "x0_17.0       8.560567e+05\n",
       "x0_18.0       9.874644e+05\n",
       "x0_19.0       1.328211e+06\n",
       "x0_20.0       5.924033e+05\n",
       "x1_1.0       -5.353032e+04"
      ]
     },
     "execution_count": 221,
     "metadata": {},
     "output_type": "execute_result"
    }
   ],
   "source": [
    "# Create a pandas DataFrame\n",
    "coefs = pd.DataFrame(index = column_names, data = model.coef_.transpose(), columns=[\"coefficients\"])\n",
    "coefs"
   ]
  },
  {
   "cell_type": "code",
   "execution_count": 222,
   "id": "4cc293d5-3aed-41c7-9109-b648c214c67b",
   "metadata": {},
   "outputs": [
    {
     "data": {
      "text/html": [
       "<div>\n",
       "<style scoped>\n",
       "    .dataframe tbody tr th:only-of-type {\n",
       "        vertical-align: middle;\n",
       "    }\n",
       "\n",
       "    .dataframe tbody tr th {\n",
       "        vertical-align: top;\n",
       "    }\n",
       "\n",
       "    .dataframe thead th {\n",
       "        text-align: right;\n",
       "    }\n",
       "</style>\n",
       "<table border=\"1\" class=\"dataframe\">\n",
       "  <thead>\n",
       "    <tr style=\"text-align: right;\">\n",
       "      <th></th>\n",
       "      <th>coefficients</th>\n",
       "    </tr>\n",
       "  </thead>\n",
       "  <tbody>\n",
       "    <tr>\n",
       "      <th>Day_of_week</th>\n",
       "      <td>1.909211e-08</td>\n",
       "    </tr>\n",
       "    <tr>\n",
       "      <th>Year</th>\n",
       "      <td>6.895022e+03</td>\n",
       "    </tr>\n",
       "    <tr>\n",
       "      <th>Temperature</th>\n",
       "      <td>1.146270e+04</td>\n",
       "    </tr>\n",
       "    <tr>\n",
       "      <th>Month</th>\n",
       "      <td>1.724319e+04</td>\n",
       "    </tr>\n",
       "    <tr>\n",
       "      <th>Unemployment</th>\n",
       "      <td>3.247850e+04</td>\n",
       "    </tr>\n",
       "    <tr>\n",
       "      <th>Day</th>\n",
       "      <td>4.959265e+04</td>\n",
       "    </tr>\n",
       "    <tr>\n",
       "      <th>x1_1.0</th>\n",
       "      <td>5.353032e+04</td>\n",
       "    </tr>\n",
       "    <tr>\n",
       "      <th>Fuel_Price</th>\n",
       "      <td>5.798483e+04</td>\n",
       "    </tr>\n",
       "    <tr>\n",
       "      <th>x0_6.0</th>\n",
       "      <td>1.002725e+05</td>\n",
       "    </tr>\n",
       "    <tr>\n",
       "      <th>x0_11.0</th>\n",
       "      <td>2.193796e+05</td>\n",
       "    </tr>\n",
       "    <tr>\n",
       "      <th>x0_2.0</th>\n",
       "      <td>2.713384e+05</td>\n",
       "    </tr>\n",
       "    <tr>\n",
       "      <th>x0_16.0</th>\n",
       "      <td>5.775860e+05</td>\n",
       "    </tr>\n",
       "    <tr>\n",
       "      <th>x0_15.0</th>\n",
       "      <td>5.892577e+05</td>\n",
       "    </tr>\n",
       "    <tr>\n",
       "      <th>x0_20.0</th>\n",
       "      <td>5.924033e+05</td>\n",
       "    </tr>\n",
       "    <tr>\n",
       "      <th>x0_7.0</th>\n",
       "      <td>6.198300e+05</td>\n",
       "    </tr>\n",
       "    <tr>\n",
       "      <th>x0_8.0</th>\n",
       "      <td>6.561967e+05</td>\n",
       "    </tr>\n",
       "    <tr>\n",
       "      <th>CPI</th>\n",
       "      <td>7.174699e+05</td>\n",
       "    </tr>\n",
       "    <tr>\n",
       "      <th>x0_17.0</th>\n",
       "      <td>8.560567e+05</td>\n",
       "    </tr>\n",
       "    <tr>\n",
       "      <th>x0_18.0</th>\n",
       "      <td>9.874644e+05</td>\n",
       "    </tr>\n",
       "    <tr>\n",
       "      <th>x0_14.0</th>\n",
       "      <td>1.017347e+06</td>\n",
       "    </tr>\n",
       "    <tr>\n",
       "      <th>x0_9.0</th>\n",
       "      <td>1.102517e+06</td>\n",
       "    </tr>\n",
       "    <tr>\n",
       "      <th>x0_5.0</th>\n",
       "      <td>1.227433e+06</td>\n",
       "    </tr>\n",
       "    <tr>\n",
       "      <th>x0_3.0</th>\n",
       "      <td>1.250987e+06</td>\n",
       "    </tr>\n",
       "    <tr>\n",
       "      <th>x0_19.0</th>\n",
       "      <td>1.328211e+06</td>\n",
       "    </tr>\n",
       "    <tr>\n",
       "      <th>x0_10.0</th>\n",
       "      <td>1.798457e+06</td>\n",
       "    </tr>\n",
       "    <tr>\n",
       "      <th>x0_13.0</th>\n",
       "      <td>2.066814e+06</td>\n",
       "    </tr>\n",
       "    <tr>\n",
       "      <th>x0_4.0</th>\n",
       "      <td>2.204173e+06</td>\n",
       "    </tr>\n",
       "  </tbody>\n",
       "</table>\n",
       "</div>"
      ],
      "text/plain": [
       "              coefficients\n",
       "Day_of_week   1.909211e-08\n",
       "Year          6.895022e+03\n",
       "Temperature   1.146270e+04\n",
       "Month         1.724319e+04\n",
       "Unemployment  3.247850e+04\n",
       "Day           4.959265e+04\n",
       "x1_1.0        5.353032e+04\n",
       "Fuel_Price    5.798483e+04\n",
       "x0_6.0        1.002725e+05\n",
       "x0_11.0       2.193796e+05\n",
       "x0_2.0        2.713384e+05\n",
       "x0_16.0       5.775860e+05\n",
       "x0_15.0       5.892577e+05\n",
       "x0_20.0       5.924033e+05\n",
       "x0_7.0        6.198300e+05\n",
       "x0_8.0        6.561967e+05\n",
       "CPI           7.174699e+05\n",
       "x0_17.0       8.560567e+05\n",
       "x0_18.0       9.874644e+05\n",
       "x0_14.0       1.017347e+06\n",
       "x0_9.0        1.102517e+06\n",
       "x0_5.0        1.227433e+06\n",
       "x0_3.0        1.250987e+06\n",
       "x0_19.0       1.328211e+06\n",
       "x0_10.0       1.798457e+06\n",
       "x0_13.0       2.066814e+06\n",
       "x0_4.0        2.204173e+06"
      ]
     },
     "execution_count": 222,
     "metadata": {},
     "output_type": "execute_result"
    }
   ],
   "source": [
    "# Compute abs() and sort values\n",
    "feature_importance = abs(coefs).sort_values(by = 'coefficients')\n",
    "feature_importance"
   ]
  },
  {
   "cell_type": "code",
   "execution_count": 223,
   "id": "194655dd-4067-4f51-bedc-8d0bcc33c040",
   "metadata": {},
   "outputs": [
    {
     "data": {
      "application/vnd.plotly.v1+json": {
       "config": {
        "plotlyServerURL": "https://plot.ly"
       },
       "data": [
        {
         "alignmentgroup": "True",
         "hovertemplate": "variable=coefficients<br>value=%{x}<br>index=%{y}<extra></extra>",
         "legendgroup": "coefficients",
         "marker": {
          "color": "#636efa",
          "pattern": {
           "shape": ""
          }
         },
         "name": "coefficients",
         "offsetgroup": "coefficients",
         "orientation": "h",
         "showlegend": true,
         "textposition": "auto",
         "type": "bar",
         "x": [
          1.909211277961731e-8,
          6895.022487946066,
          11462.704032866039,
          17243.194508476998,
          32478.4968085149,
          49592.65139627517,
          53530.32293641702,
          57984.82941480921,
          100272.53734887694,
          219379.59544222945,
          271338.3558712258,
          577586.0443891274,
          589257.73223954,
          592403.2563552535,
          619830.015416242,
          656196.7031248121,
          717469.9053980984,
          856056.6601424386,
          987464.4284796963,
          1017347.441671789,
          1102517.2537965726,
          1227432.885796695,
          1250987.4934283816,
          1328210.7992843601,
          1798457.2750563018,
          2066813.6559609985,
          2204172.8448381852
         ],
         "xaxis": "x",
         "y": [
          "Day_of_week",
          "Year",
          "Temperature",
          "Month",
          "Unemployment",
          "Day",
          "x1_1.0",
          "Fuel_Price",
          "x0_6.0",
          "x0_11.0",
          "x0_2.0",
          "x0_16.0",
          "x0_15.0",
          "x0_20.0",
          "x0_7.0",
          "x0_8.0",
          "CPI",
          "x0_17.0",
          "x0_18.0",
          "x0_14.0",
          "x0_9.0",
          "x0_5.0",
          "x0_3.0",
          "x0_19.0",
          "x0_10.0",
          "x0_13.0",
          "x0_4.0"
         ],
         "yaxis": "y"
        }
       ],
       "layout": {
        "barmode": "relative",
        "legend": {
         "title": {
          "text": "variable"
         },
         "tracegroupgap": 0
        },
        "margin": {
         "l": 120,
         "t": 60
        },
        "showlegend": false,
        "template": {
         "data": {
          "bar": [
           {
            "error_x": {
             "color": "#f2f5fa"
            },
            "error_y": {
             "color": "#f2f5fa"
            },
            "marker": {
             "line": {
              "color": "rgb(17,17,17)",
              "width": 0.5
             },
             "pattern": {
              "fillmode": "overlay",
              "size": 10,
              "solidity": 0.2
             }
            },
            "type": "bar"
           }
          ],
          "barpolar": [
           {
            "marker": {
             "line": {
              "color": "rgb(17,17,17)",
              "width": 0.5
             },
             "pattern": {
              "fillmode": "overlay",
              "size": 10,
              "solidity": 0.2
             }
            },
            "type": "barpolar"
           }
          ],
          "carpet": [
           {
            "aaxis": {
             "endlinecolor": "#A2B1C6",
             "gridcolor": "#506784",
             "linecolor": "#506784",
             "minorgridcolor": "#506784",
             "startlinecolor": "#A2B1C6"
            },
            "baxis": {
             "endlinecolor": "#A2B1C6",
             "gridcolor": "#506784",
             "linecolor": "#506784",
             "minorgridcolor": "#506784",
             "startlinecolor": "#A2B1C6"
            },
            "type": "carpet"
           }
          ],
          "choropleth": [
           {
            "colorbar": {
             "outlinewidth": 0,
             "ticks": ""
            },
            "type": "choropleth"
           }
          ],
          "contour": [
           {
            "colorbar": {
             "outlinewidth": 0,
             "ticks": ""
            },
            "colorscale": [
             [
              0,
              "#0d0887"
             ],
             [
              0.1111111111111111,
              "#46039f"
             ],
             [
              0.2222222222222222,
              "#7201a8"
             ],
             [
              0.3333333333333333,
              "#9c179e"
             ],
             [
              0.4444444444444444,
              "#bd3786"
             ],
             [
              0.5555555555555556,
              "#d8576b"
             ],
             [
              0.6666666666666666,
              "#ed7953"
             ],
             [
              0.7777777777777778,
              "#fb9f3a"
             ],
             [
              0.8888888888888888,
              "#fdca26"
             ],
             [
              1,
              "#f0f921"
             ]
            ],
            "type": "contour"
           }
          ],
          "contourcarpet": [
           {
            "colorbar": {
             "outlinewidth": 0,
             "ticks": ""
            },
            "type": "contourcarpet"
           }
          ],
          "heatmap": [
           {
            "colorbar": {
             "outlinewidth": 0,
             "ticks": ""
            },
            "colorscale": [
             [
              0,
              "#0d0887"
             ],
             [
              0.1111111111111111,
              "#46039f"
             ],
             [
              0.2222222222222222,
              "#7201a8"
             ],
             [
              0.3333333333333333,
              "#9c179e"
             ],
             [
              0.4444444444444444,
              "#bd3786"
             ],
             [
              0.5555555555555556,
              "#d8576b"
             ],
             [
              0.6666666666666666,
              "#ed7953"
             ],
             [
              0.7777777777777778,
              "#fb9f3a"
             ],
             [
              0.8888888888888888,
              "#fdca26"
             ],
             [
              1,
              "#f0f921"
             ]
            ],
            "type": "heatmap"
           }
          ],
          "heatmapgl": [
           {
            "colorbar": {
             "outlinewidth": 0,
             "ticks": ""
            },
            "colorscale": [
             [
              0,
              "#0d0887"
             ],
             [
              0.1111111111111111,
              "#46039f"
             ],
             [
              0.2222222222222222,
              "#7201a8"
             ],
             [
              0.3333333333333333,
              "#9c179e"
             ],
             [
              0.4444444444444444,
              "#bd3786"
             ],
             [
              0.5555555555555556,
              "#d8576b"
             ],
             [
              0.6666666666666666,
              "#ed7953"
             ],
             [
              0.7777777777777778,
              "#fb9f3a"
             ],
             [
              0.8888888888888888,
              "#fdca26"
             ],
             [
              1,
              "#f0f921"
             ]
            ],
            "type": "heatmapgl"
           }
          ],
          "histogram": [
           {
            "marker": {
             "pattern": {
              "fillmode": "overlay",
              "size": 10,
              "solidity": 0.2
             }
            },
            "type": "histogram"
           }
          ],
          "histogram2d": [
           {
            "colorbar": {
             "outlinewidth": 0,
             "ticks": ""
            },
            "colorscale": [
             [
              0,
              "#0d0887"
             ],
             [
              0.1111111111111111,
              "#46039f"
             ],
             [
              0.2222222222222222,
              "#7201a8"
             ],
             [
              0.3333333333333333,
              "#9c179e"
             ],
             [
              0.4444444444444444,
              "#bd3786"
             ],
             [
              0.5555555555555556,
              "#d8576b"
             ],
             [
              0.6666666666666666,
              "#ed7953"
             ],
             [
              0.7777777777777778,
              "#fb9f3a"
             ],
             [
              0.8888888888888888,
              "#fdca26"
             ],
             [
              1,
              "#f0f921"
             ]
            ],
            "type": "histogram2d"
           }
          ],
          "histogram2dcontour": [
           {
            "colorbar": {
             "outlinewidth": 0,
             "ticks": ""
            },
            "colorscale": [
             [
              0,
              "#0d0887"
             ],
             [
              0.1111111111111111,
              "#46039f"
             ],
             [
              0.2222222222222222,
              "#7201a8"
             ],
             [
              0.3333333333333333,
              "#9c179e"
             ],
             [
              0.4444444444444444,
              "#bd3786"
             ],
             [
              0.5555555555555556,
              "#d8576b"
             ],
             [
              0.6666666666666666,
              "#ed7953"
             ],
             [
              0.7777777777777778,
              "#fb9f3a"
             ],
             [
              0.8888888888888888,
              "#fdca26"
             ],
             [
              1,
              "#f0f921"
             ]
            ],
            "type": "histogram2dcontour"
           }
          ],
          "mesh3d": [
           {
            "colorbar": {
             "outlinewidth": 0,
             "ticks": ""
            },
            "type": "mesh3d"
           }
          ],
          "parcoords": [
           {
            "line": {
             "colorbar": {
              "outlinewidth": 0,
              "ticks": ""
             }
            },
            "type": "parcoords"
           }
          ],
          "pie": [
           {
            "automargin": true,
            "type": "pie"
           }
          ],
          "scatter": [
           {
            "marker": {
             "line": {
              "color": "#283442"
             }
            },
            "type": "scatter"
           }
          ],
          "scatter3d": [
           {
            "line": {
             "colorbar": {
              "outlinewidth": 0,
              "ticks": ""
             }
            },
            "marker": {
             "colorbar": {
              "outlinewidth": 0,
              "ticks": ""
             }
            },
            "type": "scatter3d"
           }
          ],
          "scattercarpet": [
           {
            "marker": {
             "colorbar": {
              "outlinewidth": 0,
              "ticks": ""
             }
            },
            "type": "scattercarpet"
           }
          ],
          "scattergeo": [
           {
            "marker": {
             "colorbar": {
              "outlinewidth": 0,
              "ticks": ""
             }
            },
            "type": "scattergeo"
           }
          ],
          "scattergl": [
           {
            "marker": {
             "line": {
              "color": "#283442"
             }
            },
            "type": "scattergl"
           }
          ],
          "scattermapbox": [
           {
            "marker": {
             "colorbar": {
              "outlinewidth": 0,
              "ticks": ""
             }
            },
            "type": "scattermapbox"
           }
          ],
          "scatterpolar": [
           {
            "marker": {
             "colorbar": {
              "outlinewidth": 0,
              "ticks": ""
             }
            },
            "type": "scatterpolar"
           }
          ],
          "scatterpolargl": [
           {
            "marker": {
             "colorbar": {
              "outlinewidth": 0,
              "ticks": ""
             }
            },
            "type": "scatterpolargl"
           }
          ],
          "scatterternary": [
           {
            "marker": {
             "colorbar": {
              "outlinewidth": 0,
              "ticks": ""
             }
            },
            "type": "scatterternary"
           }
          ],
          "surface": [
           {
            "colorbar": {
             "outlinewidth": 0,
             "ticks": ""
            },
            "colorscale": [
             [
              0,
              "#0d0887"
             ],
             [
              0.1111111111111111,
              "#46039f"
             ],
             [
              0.2222222222222222,
              "#7201a8"
             ],
             [
              0.3333333333333333,
              "#9c179e"
             ],
             [
              0.4444444444444444,
              "#bd3786"
             ],
             [
              0.5555555555555556,
              "#d8576b"
             ],
             [
              0.6666666666666666,
              "#ed7953"
             ],
             [
              0.7777777777777778,
              "#fb9f3a"
             ],
             [
              0.8888888888888888,
              "#fdca26"
             ],
             [
              1,
              "#f0f921"
             ]
            ],
            "type": "surface"
           }
          ],
          "table": [
           {
            "cells": {
             "fill": {
              "color": "#506784"
             },
             "line": {
              "color": "rgb(17,17,17)"
             }
            },
            "header": {
             "fill": {
              "color": "#2a3f5f"
             },
             "line": {
              "color": "rgb(17,17,17)"
             }
            },
            "type": "table"
           }
          ]
         },
         "layout": {
          "annotationdefaults": {
           "arrowcolor": "#f2f5fa",
           "arrowhead": 0,
           "arrowwidth": 1
          },
          "autotypenumbers": "strict",
          "coloraxis": {
           "colorbar": {
            "outlinewidth": 0,
            "ticks": ""
           }
          },
          "colorscale": {
           "diverging": [
            [
             0,
             "#8e0152"
            ],
            [
             0.1,
             "#c51b7d"
            ],
            [
             0.2,
             "#de77ae"
            ],
            [
             0.3,
             "#f1b6da"
            ],
            [
             0.4,
             "#fde0ef"
            ],
            [
             0.5,
             "#f7f7f7"
            ],
            [
             0.6,
             "#e6f5d0"
            ],
            [
             0.7,
             "#b8e186"
            ],
            [
             0.8,
             "#7fbc41"
            ],
            [
             0.9,
             "#4d9221"
            ],
            [
             1,
             "#276419"
            ]
           ],
           "sequential": [
            [
             0,
             "#0d0887"
            ],
            [
             0.1111111111111111,
             "#46039f"
            ],
            [
             0.2222222222222222,
             "#7201a8"
            ],
            [
             0.3333333333333333,
             "#9c179e"
            ],
            [
             0.4444444444444444,
             "#bd3786"
            ],
            [
             0.5555555555555556,
             "#d8576b"
            ],
            [
             0.6666666666666666,
             "#ed7953"
            ],
            [
             0.7777777777777778,
             "#fb9f3a"
            ],
            [
             0.8888888888888888,
             "#fdca26"
            ],
            [
             1,
             "#f0f921"
            ]
           ],
           "sequentialminus": [
            [
             0,
             "#0d0887"
            ],
            [
             0.1111111111111111,
             "#46039f"
            ],
            [
             0.2222222222222222,
             "#7201a8"
            ],
            [
             0.3333333333333333,
             "#9c179e"
            ],
            [
             0.4444444444444444,
             "#bd3786"
            ],
            [
             0.5555555555555556,
             "#d8576b"
            ],
            [
             0.6666666666666666,
             "#ed7953"
            ],
            [
             0.7777777777777778,
             "#fb9f3a"
            ],
            [
             0.8888888888888888,
             "#fdca26"
            ],
            [
             1,
             "#f0f921"
            ]
           ]
          },
          "colorway": [
           "#636efa",
           "#EF553B",
           "#00cc96",
           "#ab63fa",
           "#FFA15A",
           "#19d3f3",
           "#FF6692",
           "#B6E880",
           "#FF97FF",
           "#FECB52"
          ],
          "font": {
           "color": "#f2f5fa"
          },
          "geo": {
           "bgcolor": "rgb(17,17,17)",
           "lakecolor": "rgb(17,17,17)",
           "landcolor": "rgb(17,17,17)",
           "showlakes": true,
           "showland": true,
           "subunitcolor": "#506784"
          },
          "hoverlabel": {
           "align": "left"
          },
          "hovermode": "closest",
          "mapbox": {
           "style": "dark"
          },
          "paper_bgcolor": "rgb(17,17,17)",
          "plot_bgcolor": "rgb(17,17,17)",
          "polar": {
           "angularaxis": {
            "gridcolor": "#506784",
            "linecolor": "#506784",
            "ticks": ""
           },
           "bgcolor": "rgb(17,17,17)",
           "radialaxis": {
            "gridcolor": "#506784",
            "linecolor": "#506784",
            "ticks": ""
           }
          },
          "scene": {
           "xaxis": {
            "backgroundcolor": "rgb(17,17,17)",
            "gridcolor": "#506784",
            "gridwidth": 2,
            "linecolor": "#506784",
            "showbackground": true,
            "ticks": "",
            "zerolinecolor": "#C8D4E3"
           },
           "yaxis": {
            "backgroundcolor": "rgb(17,17,17)",
            "gridcolor": "#506784",
            "gridwidth": 2,
            "linecolor": "#506784",
            "showbackground": true,
            "ticks": "",
            "zerolinecolor": "#C8D4E3"
           },
           "zaxis": {
            "backgroundcolor": "rgb(17,17,17)",
            "gridcolor": "#506784",
            "gridwidth": 2,
            "linecolor": "#506784",
            "showbackground": true,
            "ticks": "",
            "zerolinecolor": "#C8D4E3"
           }
          },
          "shapedefaults": {
           "line": {
            "color": "#f2f5fa"
           }
          },
          "sliderdefaults": {
           "bgcolor": "#C8D4E3",
           "bordercolor": "rgb(17,17,17)",
           "borderwidth": 1,
           "tickwidth": 0
          },
          "ternary": {
           "aaxis": {
            "gridcolor": "#506784",
            "linecolor": "#506784",
            "ticks": ""
           },
           "baxis": {
            "gridcolor": "#506784",
            "linecolor": "#506784",
            "ticks": ""
           },
           "bgcolor": "rgb(17,17,17)",
           "caxis": {
            "gridcolor": "#506784",
            "linecolor": "#506784",
            "ticks": ""
           }
          },
          "title": {
           "x": 0.05
          },
          "updatemenudefaults": {
           "bgcolor": "#506784",
           "borderwidth": 0
          },
          "xaxis": {
           "automargin": true,
           "gridcolor": "#283442",
           "linecolor": "#506784",
           "ticks": "",
           "title": {
            "standoff": 15
           },
           "zerolinecolor": "#283442",
           "zerolinewidth": 2
          },
          "yaxis": {
           "automargin": true,
           "gridcolor": "#283442",
           "linecolor": "#506784",
           "ticks": "",
           "title": {
            "standoff": 15
           },
           "zerolinecolor": "#283442",
           "zerolinewidth": 2
          }
         }
        },
        "xaxis": {
         "anchor": "y",
         "domain": [
          0,
          1
         ],
         "title": {
          "text": "value"
         }
        },
        "yaxis": {
         "anchor": "x",
         "domain": [
          0,
          1
         ],
         "tickfont": {
          "size": 9
         },
         "title": {
          "text": "index"
         }
        }
       }
      }
     },
     "metadata": {},
     "output_type": "display_data"
    }
   ],
   "source": [
    "# Plot coefficients\n",
    "fig = px.bar(feature_importance, orientation = 'h')\n",
    "fig.update_layout(showlegend = False, \n",
    "                  margin = {'l': 120} # to avoid cropping of column names\n",
    "                 )\n",
    "fig.update_yaxes(tickfont_size=9)\n",
    "fig.show()"
   ]
  },
  {
   "cell_type": "code",
   "execution_count": 224,
   "id": "a88a3077-dca2-43ef-8a1d-2611d6f6defa",
   "metadata": {},
   "outputs": [],
   "source": [
    "# Store x0_4.0 seem to be the most important feature, Store x0_13.0 and Store x0_10.0 are the two following important features"
   ]
  },
  {
   "attachments": {},
   "cell_type": "markdown",
   "id": "e1a3339c",
   "metadata": {},
   "source": [
    "### *Part 5 : avoid overfitting by training 2 regularized regression models (ridge and lasso)* ###"
   ]
  },
  {
   "attachments": {},
   "cell_type": "markdown",
   "id": "6d0118c3",
   "metadata": {},
   "source": [
    "##### *Ridge*"
   ]
  },
  {
   "cell_type": "code",
   "execution_count": 225,
   "id": "2c183351",
   "metadata": {},
   "outputs": [
    {
     "name": "stdout",
     "output_type": "stream",
     "text": [
      "Cross-validation on Ridge...\n",
      "The cross-validated R2-score is :  0.847569652691136\n",
      "The standard deviation is :  0.06212385843303868\n"
     ]
    }
   ],
   "source": [
    "# Cross-validated score for a Ridge model\n",
    "print(\"Cross-validation on Ridge...\")\n",
    "ridge_model = Ridge()\n",
    "scores = cross_val_score(ridge_model, X_train, Y_train, cv=10)\n",
    "print('The cross-validated R2-score is : ', scores.mean())\n",
    "print('The standard deviation is : ', scores.std())"
   ]
  },
  {
   "cell_type": "code",
   "execution_count": 226,
   "id": "5643436e",
   "metadata": {},
   "outputs": [
    {
     "name": "stdout",
     "output_type": "stream",
     "text": [
      "Grid search...\n",
      "...Done.\n",
      "Best hyperparameters :  {'alpha': 0.0}\n",
      "Best R2 score :  0.959543088464633\n"
     ]
    }
   ],
   "source": [
    "# Grid search on Ridge\n",
    "\n",
    "# Ridge\n",
    "# Let's focus on Ridge regularization. We'll train 4 Ridge regressors with different values of the strength 'alpha'\n",
    "# and analyze the performances as well as the influence on the model's coefficients.\n",
    "# Perform grid search\n",
    "print(\"Grid search...\")\n",
    "ridge_model = Ridge()\n",
    "# Grid of values to be tested\n",
    "params = {\n",
    "    'alpha': [0.0, 0.1, 0.5, 1.0] # 0 corresponds to no regularization\n",
    "}\n",
    "gridsearch = GridSearchCV(ridge_model, param_grid = params, cv = 10 ) # cv : the number of folds to be used for CV\n",
    "gridsearch.fit(X_train, Y_train)\n",
    "print(\"...Done.\")\n",
    "print(\"Best hyperparameters : \", gridsearch.best_params_)\n",
    "print(\"Best R2 score : \", gridsearch.best_score_)"
   ]
  },
  {
   "cell_type": "code",
   "execution_count": 227,
   "id": "0a648364",
   "metadata": {},
   "outputs": [],
   "source": [
    "# alpha : 0.1 is the best hyperparameter"
   ]
  },
  {
   "cell_type": "code",
   "execution_count": 228,
   "id": "79923f02",
   "metadata": {},
   "outputs": [
    {
     "name": "stdout",
     "output_type": "stream",
     "text": [
      "R2 score on training set :  0.9868321417045137\n",
      "R2 score on test set :  0.9352216314000094\n"
     ]
    }
   ],
   "source": [
    "# Performance assessment\n",
    "# Print R^2 scores\n",
    "print(\"R2 score on training set : \", gridsearch.score(X_train, Y_train))\n",
    "print(\"R2 score on test set : \", gridsearch.score(X_test, Y_test))"
   ]
  },
  {
   "cell_type": "code",
   "execution_count": 229,
   "id": "c12a667b",
   "metadata": {},
   "outputs": [
    {
     "data": {
      "text/plain": [
       "0.0038236426506782495"
      ]
     },
     "execution_count": 229,
     "metadata": {},
     "output_type": "execute_result"
    }
   ],
   "source": [
    "0.9390452740506877-0.9352216314000095"
   ]
  },
  {
   "attachments": {},
   "cell_type": "markdown",
   "id": "210c37d6",
   "metadata": {},
   "source": [
    "##### *Lasso*"
   ]
  },
  {
   "cell_type": "code",
   "execution_count": 230,
   "id": "b2e1a2e7",
   "metadata": {},
   "outputs": [
    {
     "name": "stdout",
     "output_type": "stream",
     "text": [
      "Cross-validation on Ridge...\n",
      "The cross-validated R2-score is :  0.961355309012335\n",
      "The standard deviation is :  0.02279200457963867\n"
     ]
    },
    {
     "name": "stderr",
     "output_type": "stream",
     "text": [
      "e:\\Anaconda\\lib\\site-packages\\sklearn\\linear_model\\_coordinate_descent.py:647: ConvergenceWarning:\n",
      "\n",
      "Objective did not converge. You might want to increase the number of iterations, check the scale of the features or consider increasing regularisation. Duality gap: 1.921e+11, tolerance: 2.754e+09\n",
      "\n",
      "e:\\Anaconda\\lib\\site-packages\\sklearn\\linear_model\\_coordinate_descent.py:647: ConvergenceWarning:\n",
      "\n",
      "Objective did not converge. You might want to increase the number of iterations, check the scale of the features or consider increasing regularisation. Duality gap: 1.496e+11, tolerance: 2.737e+09\n",
      "\n",
      "e:\\Anaconda\\lib\\site-packages\\sklearn\\linear_model\\_coordinate_descent.py:647: ConvergenceWarning:\n",
      "\n",
      "Objective did not converge. You might want to increase the number of iterations, check the scale of the features or consider increasing regularisation. Duality gap: 1.719e+11, tolerance: 2.680e+09\n",
      "\n",
      "e:\\Anaconda\\lib\\site-packages\\sklearn\\linear_model\\_coordinate_descent.py:647: ConvergenceWarning:\n",
      "\n",
      "Objective did not converge. You might want to increase the number of iterations, check the scale of the features or consider increasing regularisation. Duality gap: 1.829e+11, tolerance: 2.762e+09\n",
      "\n",
      "e:\\Anaconda\\lib\\site-packages\\sklearn\\linear_model\\_coordinate_descent.py:647: ConvergenceWarning:\n",
      "\n",
      "Objective did not converge. You might want to increase the number of iterations, check the scale of the features or consider increasing regularisation. Duality gap: 1.875e+11, tolerance: 2.733e+09\n",
      "\n",
      "e:\\Anaconda\\lib\\site-packages\\sklearn\\linear_model\\_coordinate_descent.py:647: ConvergenceWarning:\n",
      "\n",
      "Objective did not converge. You might want to increase the number of iterations, check the scale of the features or consider increasing regularisation. Duality gap: 1.820e+11, tolerance: 2.707e+09\n",
      "\n",
      "e:\\Anaconda\\lib\\site-packages\\sklearn\\linear_model\\_coordinate_descent.py:647: ConvergenceWarning:\n",
      "\n",
      "Objective did not converge. You might want to increase the number of iterations, check the scale of the features or consider increasing regularisation. Duality gap: 1.716e+11, tolerance: 2.540e+09\n",
      "\n",
      "e:\\Anaconda\\lib\\site-packages\\sklearn\\linear_model\\_coordinate_descent.py:647: ConvergenceWarning:\n",
      "\n",
      "Objective did not converge. You might want to increase the number of iterations, check the scale of the features or consider increasing regularisation. Duality gap: 1.741e+11, tolerance: 2.700e+09\n",
      "\n",
      "e:\\Anaconda\\lib\\site-packages\\sklearn\\linear_model\\_coordinate_descent.py:647: ConvergenceWarning:\n",
      "\n",
      "Objective did not converge. You might want to increase the number of iterations, check the scale of the features or consider increasing regularisation. Duality gap: 1.926e+11, tolerance: 2.741e+09\n",
      "\n",
      "e:\\Anaconda\\lib\\site-packages\\sklearn\\linear_model\\_coordinate_descent.py:647: ConvergenceWarning:\n",
      "\n",
      "Objective did not converge. You might want to increase the number of iterations, check the scale of the features or consider increasing regularisation. Duality gap: 1.209e+11, tolerance: 2.709e+09\n",
      "\n"
     ]
    }
   ],
   "source": [
    "# Perform 3-fold cross-validation to evaluate the generalized R2 score obtained with a Ridge model\n",
    "# Cross-validated score for a Lasso model\n",
    "print(\"Cross-validation on Ridge...\")\n",
    "lasso_model = Lasso()\n",
    "scores = cross_val_score(lasso_model, X_train, Y_train, cv=10)\n",
    "print('The cross-validated R2-score is : ', scores.mean())\n",
    "print('The standard deviation is : ', scores.std())"
   ]
  },
  {
   "cell_type": "code",
   "execution_count": 231,
   "id": "905face3",
   "metadata": {},
   "outputs": [
    {
     "name": "stdout",
     "output_type": "stream",
     "text": [
      "Grid search...\n"
     ]
    },
    {
     "name": "stderr",
     "output_type": "stream",
     "text": [
      "e:\\Anaconda\\lib\\site-packages\\sklearn\\model_selection\\_validation.py:680: UserWarning:\n",
      "\n",
      "With alpha=0, this algorithm does not converge well. You are advised to use the LinearRegression estimator\n",
      "\n",
      "e:\\Anaconda\\lib\\site-packages\\sklearn\\linear_model\\_coordinate_descent.py:647: UserWarning:\n",
      "\n",
      "Coordinate descent with no regularization may lead to unexpected results and is discouraged.\n",
      "\n",
      "e:\\Anaconda\\lib\\site-packages\\sklearn\\linear_model\\_coordinate_descent.py:647: ConvergenceWarning:\n",
      "\n",
      "Objective did not converge. You might want to increase the number of iterations, check the scale of the features or consider increasing regularisation. Duality gap: 1.927e+11, tolerance: 2.754e+09 Linear regression models with null weight for the l1 regularization term are more efficiently fitted using one of the solvers implemented in sklearn.linear_model.Ridge/RidgeCV instead.\n",
      "\n",
      "e:\\Anaconda\\lib\\site-packages\\sklearn\\model_selection\\_validation.py:680: UserWarning:\n",
      "\n",
      "With alpha=0, this algorithm does not converge well. You are advised to use the LinearRegression estimator\n",
      "\n",
      "e:\\Anaconda\\lib\\site-packages\\sklearn\\linear_model\\_coordinate_descent.py:647: UserWarning:\n",
      "\n",
      "Coordinate descent with no regularization may lead to unexpected results and is discouraged.\n",
      "\n",
      "e:\\Anaconda\\lib\\site-packages\\sklearn\\linear_model\\_coordinate_descent.py:647: ConvergenceWarning:\n",
      "\n",
      "Objective did not converge. You might want to increase the number of iterations, check the scale of the features or consider increasing regularisation. Duality gap: 1.491e+11, tolerance: 2.737e+09 Linear regression models with null weight for the l1 regularization term are more efficiently fitted using one of the solvers implemented in sklearn.linear_model.Ridge/RidgeCV instead.\n",
      "\n",
      "e:\\Anaconda\\lib\\site-packages\\sklearn\\model_selection\\_validation.py:680: UserWarning:\n",
      "\n",
      "With alpha=0, this algorithm does not converge well. You are advised to use the LinearRegression estimator\n",
      "\n",
      "e:\\Anaconda\\lib\\site-packages\\sklearn\\linear_model\\_coordinate_descent.py:647: UserWarning:\n",
      "\n",
      "Coordinate descent with no regularization may lead to unexpected results and is discouraged.\n",
      "\n",
      "e:\\Anaconda\\lib\\site-packages\\sklearn\\linear_model\\_coordinate_descent.py:647: ConvergenceWarning:\n",
      "\n",
      "Objective did not converge. You might want to increase the number of iterations, check the scale of the features or consider increasing regularisation. Duality gap: 1.722e+11, tolerance: 2.680e+09 Linear regression models with null weight for the l1 regularization term are more efficiently fitted using one of the solvers implemented in sklearn.linear_model.Ridge/RidgeCV instead.\n",
      "\n",
      "e:\\Anaconda\\lib\\site-packages\\sklearn\\model_selection\\_validation.py:680: UserWarning:\n",
      "\n",
      "With alpha=0, this algorithm does not converge well. You are advised to use the LinearRegression estimator\n",
      "\n",
      "e:\\Anaconda\\lib\\site-packages\\sklearn\\linear_model\\_coordinate_descent.py:647: UserWarning:\n",
      "\n",
      "Coordinate descent with no regularization may lead to unexpected results and is discouraged.\n",
      "\n",
      "e:\\Anaconda\\lib\\site-packages\\sklearn\\linear_model\\_coordinate_descent.py:647: ConvergenceWarning:\n",
      "\n",
      "Objective did not converge. You might want to increase the number of iterations, check the scale of the features or consider increasing regularisation. Duality gap: 1.836e+11, tolerance: 2.762e+09 Linear regression models with null weight for the l1 regularization term are more efficiently fitted using one of the solvers implemented in sklearn.linear_model.Ridge/RidgeCV instead.\n",
      "\n",
      "e:\\Anaconda\\lib\\site-packages\\sklearn\\model_selection\\_validation.py:680: UserWarning:\n",
      "\n",
      "With alpha=0, this algorithm does not converge well. You are advised to use the LinearRegression estimator\n",
      "\n",
      "e:\\Anaconda\\lib\\site-packages\\sklearn\\linear_model\\_coordinate_descent.py:647: UserWarning:\n",
      "\n",
      "Coordinate descent with no regularization may lead to unexpected results and is discouraged.\n",
      "\n",
      "e:\\Anaconda\\lib\\site-packages\\sklearn\\linear_model\\_coordinate_descent.py:647: ConvergenceWarning:\n",
      "\n",
      "Objective did not converge. You might want to increase the number of iterations, check the scale of the features or consider increasing regularisation. Duality gap: 1.878e+11, tolerance: 2.733e+09 Linear regression models with null weight for the l1 regularization term are more efficiently fitted using one of the solvers implemented in sklearn.linear_model.Ridge/RidgeCV instead.\n",
      "\n",
      "e:\\Anaconda\\lib\\site-packages\\sklearn\\model_selection\\_validation.py:680: UserWarning:\n",
      "\n",
      "With alpha=0, this algorithm does not converge well. You are advised to use the LinearRegression estimator\n",
      "\n",
      "e:\\Anaconda\\lib\\site-packages\\sklearn\\linear_model\\_coordinate_descent.py:647: UserWarning:\n",
      "\n",
      "Coordinate descent with no regularization may lead to unexpected results and is discouraged.\n",
      "\n",
      "e:\\Anaconda\\lib\\site-packages\\sklearn\\linear_model\\_coordinate_descent.py:647: ConvergenceWarning:\n",
      "\n",
      "Objective did not converge. You might want to increase the number of iterations, check the scale of the features or consider increasing regularisation. Duality gap: 1.824e+11, tolerance: 2.707e+09 Linear regression models with null weight for the l1 regularization term are more efficiently fitted using one of the solvers implemented in sklearn.linear_model.Ridge/RidgeCV instead.\n",
      "\n",
      "e:\\Anaconda\\lib\\site-packages\\sklearn\\model_selection\\_validation.py:680: UserWarning:\n",
      "\n",
      "With alpha=0, this algorithm does not converge well. You are advised to use the LinearRegression estimator\n",
      "\n",
      "e:\\Anaconda\\lib\\site-packages\\sklearn\\linear_model\\_coordinate_descent.py:647: UserWarning:\n",
      "\n",
      "Coordinate descent with no regularization may lead to unexpected results and is discouraged.\n",
      "\n",
      "e:\\Anaconda\\lib\\site-packages\\sklearn\\linear_model\\_coordinate_descent.py:647: ConvergenceWarning:\n",
      "\n",
      "Objective did not converge. You might want to increase the number of iterations, check the scale of the features or consider increasing regularisation. Duality gap: 1.723e+11, tolerance: 2.540e+09 Linear regression models with null weight for the l1 regularization term are more efficiently fitted using one of the solvers implemented in sklearn.linear_model.Ridge/RidgeCV instead.\n",
      "\n",
      "e:\\Anaconda\\lib\\site-packages\\sklearn\\model_selection\\_validation.py:680: UserWarning:\n",
      "\n",
      "With alpha=0, this algorithm does not converge well. You are advised to use the LinearRegression estimator\n",
      "\n",
      "e:\\Anaconda\\lib\\site-packages\\sklearn\\linear_model\\_coordinate_descent.py:647: UserWarning:\n",
      "\n",
      "Coordinate descent with no regularization may lead to unexpected results and is discouraged.\n",
      "\n",
      "e:\\Anaconda\\lib\\site-packages\\sklearn\\linear_model\\_coordinate_descent.py:647: ConvergenceWarning:\n",
      "\n",
      "Objective did not converge. You might want to increase the number of iterations, check the scale of the features or consider increasing regularisation. Duality gap: 1.749e+11, tolerance: 2.700e+09 Linear regression models with null weight for the l1 regularization term are more efficiently fitted using one of the solvers implemented in sklearn.linear_model.Ridge/RidgeCV instead.\n",
      "\n",
      "e:\\Anaconda\\lib\\site-packages\\sklearn\\model_selection\\_validation.py:680: UserWarning:\n",
      "\n",
      "With alpha=0, this algorithm does not converge well. You are advised to use the LinearRegression estimator\n",
      "\n",
      "e:\\Anaconda\\lib\\site-packages\\sklearn\\linear_model\\_coordinate_descent.py:647: UserWarning:\n",
      "\n",
      "Coordinate descent with no regularization may lead to unexpected results and is discouraged.\n",
      "\n",
      "e:\\Anaconda\\lib\\site-packages\\sklearn\\linear_model\\_coordinate_descent.py:647: ConvergenceWarning:\n",
      "\n",
      "Objective did not converge. You might want to increase the number of iterations, check the scale of the features or consider increasing regularisation. Duality gap: 1.930e+11, tolerance: 2.741e+09 Linear regression models with null weight for the l1 regularization term are more efficiently fitted using one of the solvers implemented in sklearn.linear_model.Ridge/RidgeCV instead.\n",
      "\n",
      "e:\\Anaconda\\lib\\site-packages\\sklearn\\model_selection\\_validation.py:680: UserWarning:\n",
      "\n",
      "With alpha=0, this algorithm does not converge well. You are advised to use the LinearRegression estimator\n",
      "\n",
      "e:\\Anaconda\\lib\\site-packages\\sklearn\\linear_model\\_coordinate_descent.py:647: UserWarning:\n",
      "\n",
      "Coordinate descent with no regularization may lead to unexpected results and is discouraged.\n",
      "\n",
      "e:\\Anaconda\\lib\\site-packages\\sklearn\\linear_model\\_coordinate_descent.py:647: ConvergenceWarning:\n",
      "\n",
      "Objective did not converge. You might want to increase the number of iterations, check the scale of the features or consider increasing regularisation. Duality gap: 1.216e+11, tolerance: 2.709e+09 Linear regression models with null weight for the l1 regularization term are more efficiently fitted using one of the solvers implemented in sklearn.linear_model.Ridge/RidgeCV instead.\n",
      "\n",
      "e:\\Anaconda\\lib\\site-packages\\sklearn\\linear_model\\_coordinate_descent.py:647: ConvergenceWarning:\n",
      "\n",
      "Objective did not converge. You might want to increase the number of iterations, check the scale of the features or consider increasing regularisation. Duality gap: 1.926e+11, tolerance: 2.754e+09\n",
      "\n",
      "e:\\Anaconda\\lib\\site-packages\\sklearn\\linear_model\\_coordinate_descent.py:647: ConvergenceWarning:\n",
      "\n",
      "Objective did not converge. You might want to increase the number of iterations, check the scale of the features or consider increasing regularisation. Duality gap: 1.492e+11, tolerance: 2.737e+09\n",
      "\n",
      "e:\\Anaconda\\lib\\site-packages\\sklearn\\linear_model\\_coordinate_descent.py:647: ConvergenceWarning:\n",
      "\n",
      "Objective did not converge. You might want to increase the number of iterations, check the scale of the features or consider increasing regularisation. Duality gap: 1.722e+11, tolerance: 2.680e+09\n",
      "\n",
      "e:\\Anaconda\\lib\\site-packages\\sklearn\\linear_model\\_coordinate_descent.py:647: ConvergenceWarning:\n",
      "\n",
      "Objective did not converge. You might want to increase the number of iterations, check the scale of the features or consider increasing regularisation. Duality gap: 1.835e+11, tolerance: 2.762e+09\n",
      "\n",
      "e:\\Anaconda\\lib\\site-packages\\sklearn\\linear_model\\_coordinate_descent.py:647: ConvergenceWarning:\n",
      "\n",
      "Objective did not converge. You might want to increase the number of iterations, check the scale of the features or consider increasing regularisation. Duality gap: 1.878e+11, tolerance: 2.733e+09\n",
      "\n",
      "e:\\Anaconda\\lib\\site-packages\\sklearn\\linear_model\\_coordinate_descent.py:647: ConvergenceWarning:\n",
      "\n",
      "Objective did not converge. You might want to increase the number of iterations, check the scale of the features or consider increasing regularisation. Duality gap: 1.823e+11, tolerance: 2.707e+09\n",
      "\n",
      "e:\\Anaconda\\lib\\site-packages\\sklearn\\linear_model\\_coordinate_descent.py:647: ConvergenceWarning:\n",
      "\n",
      "Objective did not converge. You might want to increase the number of iterations, check the scale of the features or consider increasing regularisation. Duality gap: 1.722e+11, tolerance: 2.540e+09\n",
      "\n",
      "e:\\Anaconda\\lib\\site-packages\\sklearn\\linear_model\\_coordinate_descent.py:647: ConvergenceWarning:\n",
      "\n",
      "Objective did not converge. You might want to increase the number of iterations, check the scale of the features or consider increasing regularisation. Duality gap: 1.748e+11, tolerance: 2.700e+09\n",
      "\n",
      "e:\\Anaconda\\lib\\site-packages\\sklearn\\linear_model\\_coordinate_descent.py:647: ConvergenceWarning:\n",
      "\n",
      "Objective did not converge. You might want to increase the number of iterations, check the scale of the features or consider increasing regularisation. Duality gap: 1.930e+11, tolerance: 2.741e+09\n",
      "\n",
      "e:\\Anaconda\\lib\\site-packages\\sklearn\\linear_model\\_coordinate_descent.py:647: ConvergenceWarning:\n",
      "\n",
      "Objective did not converge. You might want to increase the number of iterations, check the scale of the features or consider increasing regularisation. Duality gap: 1.216e+11, tolerance: 2.709e+09\n",
      "\n",
      "e:\\Anaconda\\lib\\site-packages\\sklearn\\linear_model\\_coordinate_descent.py:647: ConvergenceWarning:\n",
      "\n",
      "Objective did not converge. You might want to increase the number of iterations, check the scale of the features or consider increasing regularisation. Duality gap: 1.924e+11, tolerance: 2.754e+09\n",
      "\n",
      "e:\\Anaconda\\lib\\site-packages\\sklearn\\linear_model\\_coordinate_descent.py:647: ConvergenceWarning:\n",
      "\n",
      "Objective did not converge. You might want to increase the number of iterations, check the scale of the features or consider increasing regularisation. Duality gap: 1.494e+11, tolerance: 2.737e+09\n",
      "\n",
      "e:\\Anaconda\\lib\\site-packages\\sklearn\\linear_model\\_coordinate_descent.py:647: ConvergenceWarning:\n",
      "\n",
      "Objective did not converge. You might want to increase the number of iterations, check the scale of the features or consider increasing regularisation. Duality gap: 1.720e+11, tolerance: 2.680e+09\n",
      "\n",
      "e:\\Anaconda\\lib\\site-packages\\sklearn\\linear_model\\_coordinate_descent.py:647: ConvergenceWarning:\n",
      "\n",
      "Objective did not converge. You might want to increase the number of iterations, check the scale of the features or consider increasing regularisation. Duality gap: 1.832e+11, tolerance: 2.762e+09\n",
      "\n",
      "e:\\Anaconda\\lib\\site-packages\\sklearn\\linear_model\\_coordinate_descent.py:647: ConvergenceWarning:\n",
      "\n",
      "Objective did not converge. You might want to increase the number of iterations, check the scale of the features or consider increasing regularisation. Duality gap: 1.877e+11, tolerance: 2.733e+09\n",
      "\n",
      "e:\\Anaconda\\lib\\site-packages\\sklearn\\linear_model\\_coordinate_descent.py:647: ConvergenceWarning:\n",
      "\n",
      "Objective did not converge. You might want to increase the number of iterations, check the scale of the features or consider increasing regularisation. Duality gap: 1.822e+11, tolerance: 2.707e+09\n",
      "\n",
      "e:\\Anaconda\\lib\\site-packages\\sklearn\\linear_model\\_coordinate_descent.py:647: ConvergenceWarning:\n",
      "\n",
      "Objective did not converge. You might want to increase the number of iterations, check the scale of the features or consider increasing regularisation. Duality gap: 1.720e+11, tolerance: 2.540e+09\n",
      "\n",
      "e:\\Anaconda\\lib\\site-packages\\sklearn\\linear_model\\_coordinate_descent.py:647: ConvergenceWarning:\n",
      "\n",
      "Objective did not converge. You might want to increase the number of iterations, check the scale of the features or consider increasing regularisation. Duality gap: 1.745e+11, tolerance: 2.700e+09\n",
      "\n",
      "e:\\Anaconda\\lib\\site-packages\\sklearn\\linear_model\\_coordinate_descent.py:647: ConvergenceWarning:\n",
      "\n",
      "Objective did not converge. You might want to increase the number of iterations, check the scale of the features or consider increasing regularisation. Duality gap: 1.928e+11, tolerance: 2.741e+09\n",
      "\n",
      "e:\\Anaconda\\lib\\site-packages\\sklearn\\linear_model\\_coordinate_descent.py:647: ConvergenceWarning:\n",
      "\n",
      "Objective did not converge. You might want to increase the number of iterations, check the scale of the features or consider increasing regularisation. Duality gap: 1.213e+11, tolerance: 2.709e+09\n",
      "\n",
      "e:\\Anaconda\\lib\\site-packages\\sklearn\\linear_model\\_coordinate_descent.py:647: ConvergenceWarning:\n",
      "\n",
      "Objective did not converge. You might want to increase the number of iterations, check the scale of the features or consider increasing regularisation. Duality gap: 1.921e+11, tolerance: 2.754e+09\n",
      "\n",
      "e:\\Anaconda\\lib\\site-packages\\sklearn\\linear_model\\_coordinate_descent.py:647: ConvergenceWarning:\n",
      "\n",
      "Objective did not converge. You might want to increase the number of iterations, check the scale of the features or consider increasing regularisation. Duality gap: 1.496e+11, tolerance: 2.737e+09\n",
      "\n",
      "e:\\Anaconda\\lib\\site-packages\\sklearn\\linear_model\\_coordinate_descent.py:647: ConvergenceWarning:\n",
      "\n",
      "Objective did not converge. You might want to increase the number of iterations, check the scale of the features or consider increasing regularisation. Duality gap: 1.719e+11, tolerance: 2.680e+09\n",
      "\n",
      "e:\\Anaconda\\lib\\site-packages\\sklearn\\linear_model\\_coordinate_descent.py:647: ConvergenceWarning:\n",
      "\n",
      "Objective did not converge. You might want to increase the number of iterations, check the scale of the features or consider increasing regularisation. Duality gap: 1.829e+11, tolerance: 2.762e+09\n",
      "\n",
      "e:\\Anaconda\\lib\\site-packages\\sklearn\\linear_model\\_coordinate_descent.py:647: ConvergenceWarning:\n",
      "\n",
      "Objective did not converge. You might want to increase the number of iterations, check the scale of the features or consider increasing regularisation. Duality gap: 1.875e+11, tolerance: 2.733e+09\n",
      "\n",
      "e:\\Anaconda\\lib\\site-packages\\sklearn\\linear_model\\_coordinate_descent.py:647: ConvergenceWarning:\n",
      "\n",
      "Objective did not converge. You might want to increase the number of iterations, check the scale of the features or consider increasing regularisation. Duality gap: 1.820e+11, tolerance: 2.707e+09\n",
      "\n",
      "e:\\Anaconda\\lib\\site-packages\\sklearn\\linear_model\\_coordinate_descent.py:647: ConvergenceWarning:\n",
      "\n",
      "Objective did not converge. You might want to increase the number of iterations, check the scale of the features or consider increasing regularisation. Duality gap: 1.716e+11, tolerance: 2.540e+09\n",
      "\n",
      "e:\\Anaconda\\lib\\site-packages\\sklearn\\linear_model\\_coordinate_descent.py:647: ConvergenceWarning:\n",
      "\n",
      "Objective did not converge. You might want to increase the number of iterations, check the scale of the features or consider increasing regularisation. Duality gap: 1.741e+11, tolerance: 2.700e+09\n",
      "\n",
      "e:\\Anaconda\\lib\\site-packages\\sklearn\\linear_model\\_coordinate_descent.py:647: ConvergenceWarning:\n",
      "\n",
      "Objective did not converge. You might want to increase the number of iterations, check the scale of the features or consider increasing regularisation. Duality gap: 1.926e+11, tolerance: 2.741e+09\n",
      "\n",
      "e:\\Anaconda\\lib\\site-packages\\sklearn\\linear_model\\_coordinate_descent.py:647: ConvergenceWarning:\n",
      "\n",
      "Objective did not converge. You might want to increase the number of iterations, check the scale of the features or consider increasing regularisation. Duality gap: 1.209e+11, tolerance: 2.709e+09\n",
      "\n"
     ]
    },
    {
     "name": "stdout",
     "output_type": "stream",
     "text": [
      "...Done.\n",
      "Best hyperparameters :  {'alpha': 1.0}\n",
      "Best R2 score :  0.961355309012335\n"
     ]
    },
    {
     "name": "stderr",
     "output_type": "stream",
     "text": [
      "e:\\Anaconda\\lib\\site-packages\\sklearn\\linear_model\\_coordinate_descent.py:647: ConvergenceWarning:\n",
      "\n",
      "Objective did not converge. You might want to increase the number of iterations, check the scale of the features or consider increasing regularisation. Duality gap: 2.033e+11, tolerance: 3.010e+09\n",
      "\n"
     ]
    }
   ],
   "source": [
    "# Grid search on Lasso\n",
    "# Let's focus on Lasso regularization. We'll train 4 Lasso regressors with different values of the strength 'alpha'\n",
    "# and analyze the performances as well as the influence on the model's coefficients.\n",
    "# Perform grid search\n",
    "print(\"Grid search...\")\n",
    "lasso_model = Lasso()\n",
    "# Grid of values to be tested\n",
    "params = {\n",
    "    'alpha': [0.0, 0.1, 0.5, 1.0] # 0 corresponds to no regularization\n",
    "}\n",
    "gridsearch = GridSearchCV(lasso_model, param_grid = params, cv = 10 ) # cv : the number of folds to be used for CV\n",
    "gridsearch.fit(X_train, Y_train)\n",
    "print(\"...Done.\")\n",
    "print(\"Best hyperparameters : \", gridsearch.best_params_)\n",
    "print(\"Best R2 score : \", gridsearch.best_score_)"
   ]
  },
  {
   "cell_type": "code",
   "execution_count": 232,
   "id": "912a621a",
   "metadata": {},
   "outputs": [
    {
     "name": "stdout",
     "output_type": "stream",
     "text": [
      "R2 score on training set :  0.9864577366096275\n",
      "R2 score on test set :  0.9390452740506877\n"
     ]
    }
   ],
   "source": [
    "# Performance assessment\n",
    "# Print R^2 scores\n",
    "print(\"R2 score on training set : \", gridsearch.score(X_train, Y_train))\n",
    "print(\"R2 score on test set : \", gridsearch.score(X_test, Y_test))"
   ]
  },
  {
   "cell_type": "code",
   "execution_count": 233,
   "id": "2e800835",
   "metadata": {},
   "outputs": [
    {
     "data": {
      "text/plain": [
       "0.026133677612325545"
      ]
     },
     "execution_count": 233,
     "metadata": {},
     "output_type": "execute_result"
    }
   ],
   "source": [
    " 0.961355309012335-0.9352216314000095"
   ]
  },
  {
   "attachments": {},
   "cell_type": "markdown",
   "id": "153944bf",
   "metadata": {},
   "source": [
    "### *Conclusion* ###"
   ]
  },
  {
   "attachments": {},
   "cell_type": "markdown",
   "id": "75d155b9",
   "metadata": {},
   "source": [
    "-  Ridge and Lasso don't fight overfitting enough, there is no difference between these models\n",
    "-  The most important feature is the target itself"
   ]
  }
 ],
 "metadata": {
  "kernelspec": {
   "display_name": "Python 3.9.12 ('base')",
   "language": "python",
   "name": "python3"
  },
  "language_info": {
   "codemirror_mode": {
    "name": "ipython",
    "version": 3
   },
   "file_extension": ".py",
   "mimetype": "text/x-python",
   "name": "python",
   "nbconvert_exporter": "python",
   "pygments_lexer": "ipython3",
   "version": "3.9.12"
  },
  "vscode": {
   "interpreter": {
    "hash": "91bb753b057673435fb8d6f6a083e6c818364728098c7ae050ca3a25357dd754"
   }
  }
 },
 "nbformat": 4,
 "nbformat_minor": 5
}
